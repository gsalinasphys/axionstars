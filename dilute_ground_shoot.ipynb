{
 "cells": [
  {
   "cell_type": "code",
   "execution_count": 45,
   "source": [
    "import numpy as np\r\n",
    "import matplotlib.pyplot as plt\r\n",
    "from scipy.optimize import curve_fit"
   ],
   "outputs": [],
   "metadata": {}
  },
  {
   "cell_type": "code",
   "execution_count": 46,
   "source": [
    "# right-hand side of ODE from \"Axion dark matter, solitons and the cusp–core problem\" Appendix A\r\n",
    "def f(r, X):\r\n",
    "    f1 = X[1]\r\n",
    "    f2 = -2*X[1]/r + 2*X[2]*X[0]\r\n",
    "    f3 = X[3]\r\n",
    "    f4 = -2*X[3]/r + np.power(X[0],2)\r\n",
    "    return np.array([f1, f2, f3, f4])\r\n",
    "\r\n",
    "# interval of solution and number of steps\r\n",
    "ri, rf = 0, 15\r\n",
    "steps = 10000\r\n",
    "dr = (rf - ri)/steps\r\n",
    "rinterv = np.linspace(ri, rf, steps, endpoint=True)\r\n",
    "\r\n",
    "# single step of RK4\r\n",
    "def rk4step(r, X):\r\n",
    "    k1 = dr*f(r, X)\r\n",
    "    k2 = dr*f(r + dr/2, X + k1/2)\r\n",
    "    k3 = dr*f(r + dr/2, X + k2/2)\r\n",
    "    k4 = dr*f(r + dr, X + k3)\r\n",
    "    return X + (k1 + 2*k2 + 2*k3 + k4)/6\r\n",
    "\r\n",
    "def rk4(Xbc):\r\n",
    "    # initialize the arrays\r\n",
    "    Xs = np.zeros((4, steps))\r\n",
    "\r\n",
    "    # boundary conditions at r = ri\r\n",
    "    Xs[..., 0] = Xbc\r\n",
    "\r\n",
    "    # perform RK4\r\n",
    "    bpoint = steps\r\n",
    "    for step in np.arange(1, steps):\r\n",
    "        rnow = rinterv[step]\r\n",
    "        Xs[..., step] = rk4step(rnow, Xs[..., step - 1])\r\n",
    "    \r\n",
    "        # the breakpoint 'bpoint' occurs when the solution stops converging to zero at r -> infty\r\n",
    "        if np.log(np.abs(Xs[..., step][0])) > np.log(np.abs(Xs[..., step - 1][0])):\r\n",
    "            bpoint = step\r\n",
    "            return Xs, bpoint\r\n",
    "\r\n",
    "    return Xs, bpoint"
   ],
   "outputs": [],
   "metadata": {}
  },
  {
   "cell_type": "code",
   "execution_count": 47,
   "source": [
    "# Reproducing solution from Doddy's papper\r\n",
    "phi0dd = -1.3415238997 + 0.692\r\n",
    "Xbcdd = np.array([1, 0, phi0dd, 0]) # theta0 is taken to be 1 using the scaling relations\r\n",
    "\r\n",
    "Xs = rk4(Xbcdd)[0]\r\n",
    "bpoint = rk4(Xbcdd)[1]\r\n",
    "plt.plot(rinterv[:bpoint], Xs[0].T[:bpoint], label = \"theta\")\r\n",
    "plt.plot(rinterv[:bpoint], Xs[2].T[:bpoint], label = \"phi\")\r\n",
    "plt.xlabel(\"r\")\r\n",
    "plt.legend();"
   ],
   "outputs": [
    {
     "output_type": "display_data",
     "data": {
      "image/png": "[encoded data removed]",
      "text/plain": [
       "<Figure size 432x288 with 1 Axes>"
      ]
     },
     "metadata": {
      "needs_background": "light"
     }
    }
   ],
   "metadata": {}
  },
  {
   "cell_type": "code",
   "execution_count": 48,
   "source": [
    "# Step of Monte Carlo for shooting method\r\n",
    "def mc_step(phi0, bpointold):\r\n",
    "    Xbc_step = np.array([1, 0, phi0, 0])\r\n",
    "    Xs_step, bpoint = rk4(Xbc_step)\r\n",
    "\r\n",
    "    # If the breakpoint happens for higher values of r, keep the new solution (ground state should have breakpoint at infty)\r\n",
    "    if bpoint > bpointold:\r\n",
    "        return True, bpoint\r\n",
    "    elif bpoint <= bpointold:\r\n",
    "        return False, bpointold\r\n",
    "\r\n",
    "# Full Monte Carlo\r\n",
    "def find_sol():\r\n",
    "    bpoint = 0\r\n",
    "    phi0 = np.random.uniform(-1,0)\r\n",
    "    direc = 1\r\n",
    "\r\n",
    "    nsteps = 10000\r\n",
    "    # count avoids the code 'getting stuck' for large periods of time\r\n",
    "    count = 1\r\n",
    "    for i in np.arange(nsteps):\r\n",
    "        phi0old = phi0\r\n",
    "        phi0 += direc*np.abs(np.random.normal(0,1e-3))\r\n",
    "\r\n",
    "        mcs = mc_step(phi0, bpoint)\r\n",
    "        if mcs[0]:\r\n",
    "            bpoint = mcs[1]\r\n",
    "        else:\r\n",
    "            phi0 = phi0old\r\n",
    "            direc *= -1\r\n",
    "            count += 1\r\n",
    "            \r\n",
    "        if count > 100:\r\n",
    "            return phi0, bpoint\r\n",
    "\r\n",
    "    return phi0, bpoint"
   ],
   "outputs": [],
   "metadata": {}
  },
  {
   "cell_type": "code",
   "execution_count": 49,
   "source": [
    "# run find_sol many times, the 'best solution' will have the largest value of bpoint\r\n",
    "bpoints, phis = [], []\r\n",
    "for i in np.arange(1):\r\n",
    "    phi, bpoint = find_sol()\r\n",
    "    phis.append(phi)\r\n",
    "    bpoints.append(bpoint)"
   ],
   "outputs": [],
   "metadata": {}
  },
  {
   "cell_type": "code",
   "execution_count": 50,
   "source": [
    "# Plotting best solution\r\n",
    "phi0_plt = phis[bpoints.index(max(bpoints))]\r\n",
    "Xbc_plt = np.array([1, 0, phi0_plt, 0])\r\n",
    "Xs = rk4(Xbc_plt)[0]\r\n",
    "bpoint = rk4(Xbc_plt)[1]\r\n",
    "\r\n",
    "plt.plot(rinterv[:bpoint], Xs[0].T[:bpoint], label = \"theta\")\r\n",
    "plt.plot(rinterv[:bpoint], Xs[2].T[:bpoint], label = \"phi\")\r\n",
    "plt.xlabel(\"r\")\r\n",
    "plt.legend();"
   ],
   "outputs": [
    {
     "output_type": "display_data",
     "data": {
      "image/png": "[encoded data removed]",
      "text/plain": [
       "<Figure size 432x288 with 1 Axes>"
      ]
     },
     "metadata": {
      "needs_background": "light"
     }
    }
   ],
   "metadata": {}
  },
  {
   "cell_type": "code",
   "execution_count": 51,
   "source": [
    "# Find gamma from asymptotic behavior of phi\r\n",
    "phi0_plt = phis[bpoints.index(max(bpoints))]\r\n",
    "Xbc_plt = np.array([1, 0, phi0_plt, 0])\r\n",
    "\r\n",
    "Xs = rk4(Xbc_plt)[0]\r\n",
    "bpoint = rk4(Xbc_plt)[1]\r\n",
    "r_asymp, phi_asymp = rinterv[bpoint - 100:bpoint], Xs[2].T[bpoint - 100:bpoint]\r\n",
    "\r\n",
    "def fit_asymp(r, C, gamma):\r\n",
    "    return C/r - gamma\r\n",
    "\r\n",
    "popt, pcov = curve_fit(fit_asymp, r_asymp, phi_asymp)\r\n",
    "gamma = popt[1]\r\n",
    "gamma"
   ],
   "outputs": [
    {
     "output_type": "execute_result",
     "data": {
      "text/plain": [
       "-0.6924693494728208"
      ]
     },
     "metadata": {},
     "execution_count": 51
    }
   ],
   "metadata": {}
  },
  {
   "cell_type": "code",
   "execution_count": 52,
   "source": [
    "# Find phi0 from phi at r = 0\r\n",
    "phi0 = Xs[2].T[0] + gamma\r\n",
    "phi0"
   ],
   "outputs": [
    {
     "output_type": "execute_result",
     "data": {
      "text/plain": [
       "-1.3419827635277204"
      ]
     },
     "metadata": {},
     "execution_count": 52
    }
   ],
   "metadata": {}
  },
  {
   "cell_type": "code",
   "execution_count": null,
   "source": [],
   "outputs": [],
   "metadata": {}
  }
 ],
 "metadata": {
  "orig_nbformat": 4,
  "language_info": {
   "name": "python",
   "version": "3.9.7",
   "mimetype": "text/x-python",
   "codemirror_mode": {
    "name": "ipython",
    "version": 3
   },
   "pygments_lexer": "ipython3",
   "nbconvert_exporter": "python",
   "file_extension": ".py"
  },
  "kernelspec": {
   "name": "python3",
   "display_name": "Python 3.9.7 64-bit (windows store)"
  },
  "interpreter": {
   "hash": "c2c1c2c5d31dd2871387777c80104f99faffe262fdebec3dae380fc7c671c441"
  }
 },
 "nbformat": 4,
 "nbformat_minor": 2
}