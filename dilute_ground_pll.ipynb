{
 "cells": [
  {
   "cell_type": "code",
   "execution_count": 1,
   "metadata": {},
   "outputs": [],
   "source": [
    "from ground_functions import *\n",
    "import multiprocess as mp"
   ]
  },
  {
   "cell_type": "code",
   "execution_count": 2,
   "metadata": {},
   "outputs": [],
   "source": [
    "nprocs = mp.cpu_count()\n",
    "pool = mp.Pool(processes=nprocs)\n",
    "\n",
    "def find_sol():\n",
    "    bpoint = 0\n",
    "    phi0 = np.random.uniform(-1,0)\n",
    "\n",
    "    nsteps = 5000\n",
    "    count, step_stdev, nneighboors = 0, 1, nprocs\n",
    "    for i in np.arange(nsteps):\n",
    "        # Give a random kick to phi0\n",
    "        phi0old = phi0\n",
    "        allphi0s = np.array([phi0]*nneighboors) + np.random.normal(0,step_stdev,nneighboors)\n",
    "\n",
    "        mcs = pool.starmap(mc_step, [(phi0here, bpoint) for phi0here in allphi0s])\n",
    "        bpoints = np.array([mc[1] for mc in mcs])\n",
    "        bpoint_max = np.amax(bpoints)\n",
    "        index_max = np.where(bpoints == bpoint_max)[0]\n",
    "\n",
    "        if bpoint_max > bpoint:  # If a larger 'bpoint' is found, keep\n",
    "            bpoint = bpoint_max\n",
    "            phi0 = allphi0s[index_max][0]\n",
    "        else:   # If not, back to old valur of phi0\n",
    "            count += 1\n",
    "        \n",
    "        # Variable 'count' avoids the code 'getting stuck' for large periods of time, makes step smaller when it happens\n",
    "        if count > 2:\n",
    "            count = 0\n",
    "            step_stdev = step_stdev/10\n",
    "\n",
    "        # If the solution does not break in the interval or step is too small, stop\n",
    "        if bpoint == steps - 1 or step_stdev < 1e-20:\n",
    "            return phi0, bpoint\n",
    "\n",
    "    return phi0, bpoint"
   ]
  },
  {
   "cell_type": "code",
   "execution_count": 3,
   "metadata": {},
   "outputs": [
    {
     "name": "stdout",
     "output_type": "stream",
     "text": [
      "The value of epsilonb is: 0.6924006180342762\n",
      "The value of tilde phi0 is: -0.6495243122546195\n"
     ]
    },
    {
     "data": {
      "image/png": "[encoded data removed]",
      "text/plain": [
       "<Figure size 432x288 with 1 Axes>"
      ]
     },
     "metadata": {
      "needs_background": "light"
     },
     "output_type": "display_data"
    }
   ],
   "source": [
    "# Plotting solution\n",
    "phi0_plt = find_sol()[0]\n",
    "Xbc_plt = np.array([1, 0, phi0_plt, 0])\n",
    "Xs, bpoint = rk4(Xbc_plt)\n",
    "rinterv_cut, Xs = rinterv[:bpoint], Xs[:, :bpoint]\n",
    "\n",
    "epsilonb = find_epsilonb(rinterv_cut, Xs)[0]\n",
    "print('The value of epsilonb is:', epsilonb)\n",
    "print('The value of tilde phi0 is:', Xs[2].T[0])\n",
    "\n",
    "plt.plot(rinterv_cut, Xs[0].T, 'k-', label = \"theta\")\n",
    "plt.plot(rinterv_cut, Xs[2].T - epsilonb, 'k--', label = \"phi\")\n",
    "plt.xlabel(\"r\")\n",
    "plt.legend();"
   ]
  },
  {
   "cell_type": "code",
   "execution_count": null,
   "metadata": {},
   "outputs": [],
   "source": []
  }
 ],
 "metadata": {
  "interpreter": {
   "hash": "c2c1c2c5d31dd2871387777c80104f99faffe262fdebec3dae380fc7c671c441"
  },
  "kernelspec": {
   "display_name": "Python 3.9.7 64-bit (windows store)",
   "name": "python3"
  },
  "language_info": {
   "codemirror_mode": {
    "name": "ipython",
    "version": 3
   },
   "file_extension": ".py",
   "mimetype": "text/x-python",
   "name": "python",
   "nbconvert_exporter": "python",
   "pygments_lexer": "ipython3",
   "version": "3.9.7"
  },
  "orig_nbformat": 4
 },
 "nbformat": 4,
 "nbformat_minor": 2
}
