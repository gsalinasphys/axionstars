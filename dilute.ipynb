{
 "cells": [
  {
   "cell_type": "code",
   "execution_count": 59,
   "source": [
    "import numpy as np\r\n",
    "import matplotlib.pyplot as plt"
   ],
   "outputs": [],
   "metadata": {}
  },
  {
   "cell_type": "code",
   "execution_count": 64,
   "source": [
    "# right-hand side of ODE\r\n",
    "cz = 0.22\r\n",
    "lbd = 3*cz - 1\r\n",
    "\r\n",
    "def f(r, X, w):\r\n",
    "    f2 = -2*X[1]/r + (1 - w*w)*X[0] + X[0]*X[2] + lbd*np.power(X[0],3)\r\n",
    "    f1 = X[1]\r\n",
    "    f4 = -2*X[3]/r + (1 + w*w)*np.power(X[0],2) + np.power(X[1],2) + lbd*np.power(X[0],4)/16\r\n",
    "    f3 = X[3] \r\n",
    "    return np.array([f1, f2, f3, f4])\r\n",
    "\r\n",
    "# interval of solution and number of steps\r\n",
    "ri, rf = 0, 1000\r\n",
    "steps = 10000\r\n",
    "dr = (rf - ri)/steps\r\n",
    "\r\n",
    "# single step of RK4\r\n",
    "def rk4step(r, X, w):\r\n",
    "    k1 = dr*f(r, X, w)\r\n",
    "    k2 = dr*f(r + dr/2, X + k1/2, w)\r\n",
    "    k3 = dr*f(r + dr/2, X + k2/2, w)\r\n",
    "    k4 = dr*f(r + dr, X + k3, w)\r\n",
    "    return X + (k1 + 2*k2 + 2*k3 + k4)/6\r\n",
    "\r\n",
    "def rk4(Xbc, w):\r\n",
    "    # initialize the arrays\r\n",
    "    rinterv = np.linspace(ri, rf, steps, endpoint=True)\r\n",
    "    Xs = np.zeros((4, steps))\r\n",
    "\r\n",
    "    # boundary conditions\r\n",
    "    Xs[..., 0] = Xbc\r\n",
    "\r\n",
    "    # perform RK4\r\n",
    "    for step in np.arange(1, steps):\r\n",
    "        rnow = rinterv[step]\r\n",
    "        Xs[..., step] = rk4step(rnow, Xs[..., step - 1], w)\r\n",
    "\r\n",
    "    return Xs"
   ],
   "outputs": [],
   "metadata": {}
  },
  {
   "cell_type": "code",
   "execution_count": 69,
   "source": [
    "w = 0.9\r\n",
    "theta0, phi0 = 1e-8, -1e-5\r\n",
    "Xbc = np.array([theta0, 0, phi0, 0])\r\n",
    "\r\n",
    "plt.plot(rk4(Xbc, w)[0].T)"
   ],
   "outputs": [
    {
     "output_type": "stream",
     "name": "stderr",
     "text": [
      "C:\\Users\\gsali\\AppData\\Local\\Temp/ipykernel_27808/1536205681.py:8: RuntimeWarning: overflow encountered in power\n",
      "  f4 = -2*X[3]/r + (1 + w*w)*np.power(X[0],2) + np.power(X[1],2) + lbd*np.power(X[0],4)/16\n",
      "C:\\Users\\gsali\\AppData\\Local\\Temp/ipykernel_27808/1536205681.py:6: RuntimeWarning: overflow encountered in double_scalars\n",
      "  f2 = -2*X[1]/r + (1 - w*w)*X[0] + X[0]*X[2] + lbd*np.power(X[0],3)\n",
      "C:\\Users\\gsali\\AppData\\Local\\Temp/ipykernel_27808/1536205681.py:6: RuntimeWarning: overflow encountered in power\n",
      "  f2 = -2*X[1]/r + (1 - w*w)*X[0] + X[0]*X[2] + lbd*np.power(X[0],3)\n",
      "C:\\Users\\gsali\\AppData\\Local\\Temp/ipykernel_27808/1536205681.py:8: RuntimeWarning: invalid value encountered in double_scalars\n",
      "  f4 = -2*X[3]/r + (1 + w*w)*np.power(X[0],2) + np.power(X[1],2) + lbd*np.power(X[0],4)/16\n",
      "C:\\Users\\gsali\\AppData\\Local\\Temp/ipykernel_27808/1536205681.py:6: RuntimeWarning: invalid value encountered in double_scalars\n",
      "  f2 = -2*X[1]/r + (1 - w*w)*X[0] + X[0]*X[2] + lbd*np.power(X[0],3)\n"
     ]
    },
    {
     "output_type": "execute_result",
     "data": {
      "text/plain": [
       "[<matplotlib.lines.Line2D at 0x1f795db5190>]"
      ]
     },
     "metadata": {},
     "execution_count": 69
    },
    {
     "output_type": "display_data",
     "data": {
      "image/png": "[encoded data removed]",
      "text/plain": [
       "<Figure size 432x288 with 1 Axes>"
      ]
     },
     "metadata": {
      "needs_background": "light"
     }
    }
   ],
   "metadata": {}
  },
  {
   "cell_type": "code",
   "execution_count": null,
   "source": [],
   "outputs": [],
   "metadata": {}
  }
 ],
 "metadata": {
  "orig_nbformat": 4,
  "language_info": {
   "name": "python",
   "version": "3.9.7",
   "mimetype": "text/x-python",
   "codemirror_mode": {
    "name": "ipython",
    "version": 3
   },
   "pygments_lexer": "ipython3",
   "nbconvert_exporter": "python",
   "file_extension": ".py"
  },
  "kernelspec": {
   "name": "python3",
   "display_name": "Python 3.9.7 64-bit (windows store)"
  },
  "interpreter": {
   "hash": "c2c1c2c5d31dd2871387777c80104f99faffe262fdebec3dae380fc7c671c441"
  }
 },
 "nbformat": 4,
 "nbformat_minor": 2
}