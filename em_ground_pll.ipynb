{
 "cells": [
  {
   "cell_type": "code",
   "execution_count": 1,
   "metadata": {},
   "outputs": [],
   "source": [
    "from em_functions import *\n",
    "import matplotlib.pyplot as plt\n",
    "import time\n",
    "import multiprocess as mp\n",
    "# from labellines import labelLine, labelLines"
   ]
  },
  {
   "cell_type": "code",
   "execution_count": 2,
   "metadata": {},
   "outputs": [],
   "source": [
    "nprocs = mp.cpu_count()\n",
    "pool = mp.Pool(processes=nprocs)\n",
    "\n",
    "# Full Monte Carlo\n",
    "def find_sol(emparams, rparams):\n",
    "    ri, rf, dr = rparams\n",
    "    steps = int((rf - ri)//dr)\n",
    "\n",
    "    bpoint = 0\n",
    "    phi0 = np.random.uniform(-1,0)\n",
    "\n",
    "    nsteps = 5000\n",
    "    count, step_stdev, nneighboors = 0, 1, nprocs\n",
    "    for i in np.arange(nsteps):\n",
    "        # Give a random kick to phi0\n",
    "        phi0old = phi0\n",
    "        allphi0s = np.array([phi0]*nneighboors) + np.random.normal(0,step_stdev,nneighboors)\n",
    "\n",
    "        mcs = pool.starmap(mc_step, [(phi0here, bpoint, emparams, rparams) for phi0here in allphi0s])\n",
    "        bpoints = np.array([mc[1] for mc in mcs])\n",
    "        bpoint_max = np.amax(bpoints)\n",
    "        index_max = np.where(bpoints == bpoint_max)[0]\n",
    "\n",
    "        if bpoint_max > bpoint:  # If a larger 'bpoint' is found, keep\n",
    "            bpoint = bpoint_max\n",
    "            phi0 = allphi0s[index_max][0]\n",
    "        else:   # If not, back to old valur of phi0\n",
    "            count += 1\n",
    "        \n",
    "        # Variable 'count' avoids the code 'getting stuck' for large periods of time, makes step smaller when it happens\n",
    "        if count > 2:\n",
    "            count = 0\n",
    "            step_stdev = step_stdev/10\n",
    "\n",
    "        # If the solution does not break in the interval or step is too small, stop\n",
    "        if bpoint == steps - 1 or step_stdev < 1e-20:\n",
    "            return phi0, bpoint\n",
    "\n",
    "    return phi0, bpoint"
   ]
  },
  {
   "cell_type": "code",
   "execution_count": 31,
   "metadata": {},
   "outputs": [
    {
     "name": "stdout",
     "output_type": "stream",
     "text": [
      "The value of epsilonb is: 0.6233710381499736\n",
      "The value of tilde phi0 is: -0.593488949674398\n"
     ]
    },
    {
     "data": {
      "image/png": "[encoded data removed]",
      "text/plain": [
       "<Figure size 432x288 with 1 Axes>"
      ]
     },
     "metadata": {
      "needs_background": "light"
     },
     "output_type": "display_data"
    }
   ],
   "source": [
    "# Plotting solution\n",
    "rparams = 0, 20, 0.01 # rparams in the format ri, rf, dr\n",
    "ri, rf, dr = rparams\n",
    "steps = int((rf - ri)//dr)\n",
    "rinterv = np.linspace(ri, rf, steps, endpoint=True)\n",
    "\n",
    "emparams = [10, 0, 0.1] # emparams in the format [scale, center, size]\n",
    "phi0_plt = find_sol(emparams, rparams)[0]\n",
    "Xbc_plt = np.array([1, 0, phi0_plt, 0])\n",
    "Xs, bpoint = rk4(Xbc_plt, emparams, rparams)\n",
    "rinterv_cut, Xs = rinterv[:bpoint], Xs[:, :bpoint]\n",
    "\n",
    "# emparams_ref = [0, 0, 0.1] # emparams in the format [scale, center, size]\n",
    "# phi0_ref = find_sol(emparams_ref, rparams)[0]\n",
    "# Xbc_ref = np.array([1, 0, phi0_ref, 0])\n",
    "# Xs_ref, bpoint_ref = rk4(Xbc_ref, emparams_ref, rparams)\n",
    "# rinterv_cut_ref, Xs_ref = rinterv[:bpoint], Xs_ref[:, :bpoint]\n",
    "\n",
    "Xs_readflat = np.loadtxt(\"output/hr_ground.txt\")\n",
    "rinterv_read = np.linspace(ri, rf, int(len(Xs_readflat)/4), endpoint=True)\n",
    "Xs_read = Xs_readflat.reshape(4, int(len(Xs_readflat)/4))\n",
    "# Xs_ground = Xs_read[0].T\n",
    "# Xs_only, Xs_ground = Xs[0].T, Xs_ref[0].T\n",
    "# max_ind = np.max([bpoint, bpoint_ref])\n",
    "\n",
    "# Xs = rescaled_asymp(Xs, bpoint, rparams)*Xs\n",
    "\n",
    "\n",
    "epsilonb_read = find_epsilonb(rinterv_read, Xs_read)[0]\n",
    "epsilonb = find_epsilonb(rinterv_cut, Xs)[0]\n",
    "print('The value of epsilonb is:', epsilonb)\n",
    "print('The value of tilde phi0 is:', Xs[2].T[0])\n",
    "\n",
    "plt.plot(rinterv_cut, Xs[0].T, 'k-', label = \"theta\")\n",
    "plt.plot(rinterv_read, Xs_read[0].T, 'r', label = \"theta_ground\")\n",
    "plt.plot(rinterv_cut, Xs[2].T - epsilonb, 'k--', label = \"phi\")\n",
    "plt.plot(rinterv_read, Xs_read[2].T - epsilonb_read, 'r--', label = \"phi_ground\")\n",
    "plt.xlabel(\"r\")\n",
    "plt.legend();"
   ]
  },
  {
   "cell_type": "code",
   "execution_count": 32,
   "metadata": {},
   "outputs": [
    {
     "data": {
      "text/plain": [
       "[<matplotlib.lines.Line2D at 0x2ada04bad90>]"
      ]
     },
     "execution_count": 32,
     "metadata": {},
     "output_type": "execute_result"
    },
    {
     "data": {
      "image/png": "[encoded data removed]",
      "text/plain": [
       "<Figure size 432x288 with 1 Axes>"
      ]
     },
     "metadata": {
      "needs_background": "light"
     },
     "output_type": "display_data"
    }
   ],
   "source": [
    "plt.plot(rinterv_cut, (Xs[2].T - epsilonb)*rinterv_cut, 'k--', label = \"phi\")\n",
    "plt.plot(rinterv_read, (Xs_read[2].T - epsilonb_read)*rinterv_read, 'r--', label = \"phi_ground\")\n",
    "# plt.xlim(left = 10, right = 20)\n",
    "# plt.ylim(top = 0, bottom = -0.2)"
   ]
  },
  {
   "cell_type": "code",
   "execution_count": 80,
   "metadata": {},
   "outputs": [
    {
     "name": "stdout",
     "output_type": "stream",
     "text": [
      "Found solution for emparams =  [1.0, 0, 0.01] . It took  20.23  minutes.\n",
      "Found solution for emparams =  [2.0, 0, 0.01] . It took  20.25  minutes.\n",
      "Found solution for emparams =  [3.0, 0, 0.01] . It took  20.56  minutes.\n",
      "Found solution for emparams =  [4.0, 0, 0.01] . It took  20.51  minutes.\n",
      "Found solution for emparams =  [5.0, 0, 0.01] . It took  20.43  minutes.\n",
      "Found solution for emparams =  [6.0, 0, 0.01] . It took  20.57  minutes.\n",
      "Found solution for emparams =  [7.0, 0, 0.01] . It took  21.57  minutes.\n",
      "Found solution for emparams =  [8.0, 0, 0.01] . It took  20.15  minutes.\n",
      "Found solution for emparams =  [9.0, 0, 0.01] . It took  19.77  minutes.\n",
      "Found solution for emparams =  [10.0, 0, 0.01] . It took  19.81  minutes.\n",
      "Found solution for emparams =  [11.0, 0, 0.01] . It took  19.72  minutes.\n",
      "Found solution for emparams =  [12.0, 0, 0.01] . It took  19.8  minutes.\n",
      "Found solution for emparams =  [13.0, 0, 0.01] . It took  19.74  minutes.\n",
      "Found solution for emparams =  [14.0, 0, 0.01] . It took  19.71  minutes.\n",
      "Found solution for emparams =  [15.0, 0, 0.01] . It took  19.58  minutes.\n",
      "Found solution for emparams =  [16.0, 0, 0.01] . It took  19.67  minutes.\n",
      "Found solution for emparams =  [17.0, 0, 0.01] . It took  19.59  minutes.\n",
      "Found solution for emparams =  [18.0, 0, 0.01] . It took  19.62  minutes.\n",
      "Found solution for emparams =  [19.0, 0, 0.01] . It took  19.85  minutes.\n",
      "Found solution for emparams =  [20.0, 0, 0.01] . It took  19.9  minutes.\n",
      "Found solution for emparams =  [21.0, 0, 0.01] . It took  12.86  minutes.\n",
      "Found solution for emparams =  [22.0, 0, 0.01] . It took  19.7  minutes.\n",
      "Found solution for emparams =  [23.0, 0, 0.01] . It took  19.61  minutes.\n",
      "Found solution for emparams =  [24.0, 0, 0.01] . It took  19.72  minutes.\n",
      "Found solution for emparams =  [25.0, 0, 0.01] . It took  19.59  minutes.\n",
      "Found solution for emparams =  [26.0, 0, 0.01] . It took  19.65  minutes.\n",
      "Found solution for emparams =  [27.0, 0, 0.01] . It took  19.76  minutes.\n",
      "Found solution for emparams =  [28.0, 0, 0.01] . It took  19.72  minutes.\n",
      "Found solution for emparams =  [29.0, 0, 0.01] . It took  19.91  minutes.\n",
      "Found solution for emparams =  [30.0, 0, 0.01] . It took  20.0  minutes.\n",
      "Found solution for emparams =  [31.0, 0, 0.01] . It took  19.87  minutes.\n",
      "Found solution for emparams =  [32.0, 0, 0.01] . It took  19.74  minutes.\n",
      "Found solution for emparams =  [33.0, 0, 0.01] . It took  19.81  minutes.\n",
      "Found solution for emparams =  [34.0, 0, 0.01] . It took  19.73  minutes.\n",
      "Found solution for emparams =  [35.0, 0, 0.01] . It took  19.61  minutes.\n",
      "Found solution for emparams =  [36.0, 0, 0.01] . It took  19.58  minutes.\n",
      "Found solution for emparams =  [37.0, 0, 0.01] . It took  19.6  minutes.\n",
      "Found solution for emparams =  [38.0, 0, 0.01] . It took  19.62  minutes.\n",
      "Found solution for emparams =  [39.0, 0, 0.01] . It took  19.66  minutes.\n",
      "Found solution for emparams =  [40.0, 0, 0.01] . It took  19.71  minutes.\n",
      "Found solution for emparams =  [41.0, 0, 0.01] . It took  19.64  minutes.\n",
      "Found solution for emparams =  [42.0, 0, 0.01] . It took  19.73  minutes.\n",
      "Found solution for emparams =  [43.0, 0, 0.01] . It took  11.11  minutes.\n",
      "Found solution for emparams =  [44.0, 0, 0.01] . It took  19.75  minutes.\n",
      "Found solution for emparams =  [45.0, 0, 0.01] . It took  19.72  minutes.\n",
      "Found solution for emparams =  [46.0, 0, 0.01] . It took  19.68  minutes.\n",
      "Found solution for emparams =  [47.0, 0, 0.01] . It took  19.53  minutes.\n",
      "Found solution for emparams =  [48.0, 0, 0.01] . It took  19.71  minutes.\n",
      "Found solution for emparams =  [49.0, 0, 0.01] . It took  19.78  minutes.\n",
      "Found solution for emparams =  [50.0, 0, 0.01] . It took  19.84  minutes.\n",
      "Found solution for emparams =  [51.0, 0, 0.01] . It took  19.7  minutes.\n",
      "Found solution for emparams =  [52.0, 0, 0.01] . It took  19.78  minutes.\n",
      "Found solution for emparams =  [53.0, 0, 0.01] . It took  19.56  minutes.\n",
      "Found solution for emparams =  [54.0, 0, 0.01] . It took  19.82  minutes.\n",
      "Found solution for emparams =  [55.0, 0, 0.01] . It took  19.86  minutes.\n",
      "Found solution for emparams =  [56.0, 0, 0.01] . It took  11.29  minutes.\n",
      "Found solution for emparams =  [57.0, 0, 0.01] . It took  20.13  minutes.\n",
      "Found solution for emparams =  [58.0, 0, 0.01] . It took  19.67  minutes.\n",
      "Found solution for emparams =  [59.0, 0, 0.01] . It took  19.72  minutes.\n",
      "Found solution for emparams =  [60.0, 0, 0.01] . It took  20.18  minutes.\n"
     ]
    },
    {
     "ename": "KeyboardInterrupt",
     "evalue": "",
     "output_type": "error",
     "traceback": [
      "\u001b[1;31m---------------------------------------------------------------------------\u001b[0m",
      "\u001b[1;31mKeyboardInterrupt\u001b[0m                         Traceback (most recent call last)",
      "\u001b[1;32m~\\AppData\\Local\\Temp/ipykernel_11252/1770421099.py\u001b[0m in \u001b[0;36m<module>\u001b[1;34m\u001b[0m\n\u001b[0;32m      7\u001b[0m \u001b[1;32mfor\u001b[0m \u001b[0mscale\u001b[0m \u001b[1;32min\u001b[0m \u001b[0mscales\u001b[0m\u001b[1;33m:\u001b[0m\u001b[1;33m\u001b[0m\u001b[1;33m\u001b[0m\u001b[0m\n\u001b[0;32m      8\u001b[0m     \u001b[0memparams\u001b[0m \u001b[1;33m=\u001b[0m \u001b[1;33m[\u001b[0m\u001b[0mscale\u001b[0m\u001b[1;33m,\u001b[0m \u001b[1;36m0\u001b[0m\u001b[1;33m,\u001b[0m \u001b[0msize_choice\u001b[0m\u001b[1;33m]\u001b[0m\u001b[1;33m\u001b[0m\u001b[1;33m\u001b[0m\u001b[0m\n\u001b[1;32m----> 9\u001b[1;33m     \u001b[0mphi0_plt\u001b[0m \u001b[1;33m=\u001b[0m \u001b[0mfind_sol\u001b[0m\u001b[1;33m(\u001b[0m\u001b[0memparams\u001b[0m\u001b[1;33m)\u001b[0m\u001b[1;33m[\u001b[0m\u001b[1;36m0\u001b[0m\u001b[1;33m]\u001b[0m\u001b[1;33m\u001b[0m\u001b[1;33m\u001b[0m\u001b[0m\n\u001b[0m\u001b[0;32m     10\u001b[0m     \u001b[0mXbc_plt\u001b[0m \u001b[1;33m=\u001b[0m \u001b[0mnp\u001b[0m\u001b[1;33m.\u001b[0m\u001b[0marray\u001b[0m\u001b[1;33m(\u001b[0m\u001b[1;33m[\u001b[0m\u001b[1;36m1\u001b[0m\u001b[1;33m,\u001b[0m \u001b[1;36m0\u001b[0m\u001b[1;33m,\u001b[0m \u001b[0mphi0_plt\u001b[0m\u001b[1;33m,\u001b[0m \u001b[1;36m0\u001b[0m\u001b[1;33m]\u001b[0m\u001b[1;33m)\u001b[0m\u001b[1;33m\u001b[0m\u001b[1;33m\u001b[0m\u001b[0m\n\u001b[0;32m     11\u001b[0m     \u001b[0mXs\u001b[0m\u001b[1;33m,\u001b[0m \u001b[0mbpoint\u001b[0m \u001b[1;33m=\u001b[0m \u001b[0mrk4\u001b[0m\u001b[1;33m(\u001b[0m\u001b[0mXbc_plt\u001b[0m\u001b[1;33m,\u001b[0m \u001b[0memparams\u001b[0m\u001b[1;33m)\u001b[0m\u001b[1;33m\u001b[0m\u001b[1;33m\u001b[0m\u001b[0m\n",
      "\u001b[1;32m~\\AppData\\Local\\Temp/ipykernel_11252/3610044980.py\u001b[0m in \u001b[0;36mfind_sol\u001b[1;34m(emparams)\u001b[0m\n\u001b[0;32m     68\u001b[0m         \u001b[0mphi0\u001b[0m \u001b[1;33m+=\u001b[0m \u001b[0mnp\u001b[0m\u001b[1;33m.\u001b[0m\u001b[0mrandom\u001b[0m\u001b[1;33m.\u001b[0m\u001b[0mnormal\u001b[0m\u001b[1;33m(\u001b[0m\u001b[1;36m0\u001b[0m\u001b[1;33m,\u001b[0m\u001b[0mstep_stdev\u001b[0m\u001b[1;33m)\u001b[0m\u001b[1;33m\u001b[0m\u001b[1;33m\u001b[0m\u001b[0m\n\u001b[0;32m     69\u001b[0m \u001b[1;33m\u001b[0m\u001b[0m\n\u001b[1;32m---> 70\u001b[1;33m         \u001b[0mmcs\u001b[0m \u001b[1;33m=\u001b[0m \u001b[0mmc_step\u001b[0m\u001b[1;33m(\u001b[0m\u001b[0mphi0\u001b[0m\u001b[1;33m,\u001b[0m \u001b[0mbpoint\u001b[0m\u001b[1;33m,\u001b[0m \u001b[0memparams\u001b[0m\u001b[1;33m)\u001b[0m\u001b[1;33m\u001b[0m\u001b[1;33m\u001b[0m\u001b[0m\n\u001b[0m\u001b[0;32m     71\u001b[0m         \u001b[1;32mif\u001b[0m \u001b[0mmcs\u001b[0m\u001b[1;33m[\u001b[0m\u001b[1;36m0\u001b[0m\u001b[1;33m]\u001b[0m\u001b[1;33m:\u001b[0m  \u001b[1;31m# If a larger 'bpoint' is found, keep\u001b[0m\u001b[1;33m\u001b[0m\u001b[1;33m\u001b[0m\u001b[0m\n\u001b[0;32m     72\u001b[0m             \u001b[0mbpoint\u001b[0m \u001b[1;33m=\u001b[0m \u001b[0mmcs\u001b[0m\u001b[1;33m[\u001b[0m\u001b[1;36m1\u001b[0m\u001b[1;33m]\u001b[0m\u001b[1;33m\u001b[0m\u001b[1;33m\u001b[0m\u001b[0m\n",
      "\u001b[1;32m~\\AppData\\Local\\Temp/ipykernel_11252/3610044980.py\u001b[0m in \u001b[0;36mmc_step\u001b[1;34m(phi0, bpointold, emparams)\u001b[0m\n\u001b[0;32m     48\u001b[0m \u001b[1;32mdef\u001b[0m \u001b[0mmc_step\u001b[0m\u001b[1;33m(\u001b[0m\u001b[0mphi0\u001b[0m\u001b[1;33m,\u001b[0m \u001b[0mbpointold\u001b[0m\u001b[1;33m,\u001b[0m \u001b[0memparams\u001b[0m\u001b[1;33m)\u001b[0m\u001b[1;33m:\u001b[0m\u001b[1;33m\u001b[0m\u001b[1;33m\u001b[0m\u001b[0m\n\u001b[0;32m     49\u001b[0m     \u001b[0mXbc_step\u001b[0m \u001b[1;33m=\u001b[0m \u001b[0mnp\u001b[0m\u001b[1;33m.\u001b[0m\u001b[0marray\u001b[0m\u001b[1;33m(\u001b[0m\u001b[1;33m[\u001b[0m\u001b[1;36m1\u001b[0m\u001b[1;33m,\u001b[0m \u001b[1;36m0\u001b[0m\u001b[1;33m,\u001b[0m \u001b[0mphi0\u001b[0m\u001b[1;33m,\u001b[0m \u001b[1;36m0\u001b[0m\u001b[1;33m]\u001b[0m\u001b[1;33m)\u001b[0m\u001b[1;33m\u001b[0m\u001b[1;33m\u001b[0m\u001b[0m\n\u001b[1;32m---> 50\u001b[1;33m     \u001b[0mXs_step\u001b[0m\u001b[1;33m,\u001b[0m \u001b[0mbpoint\u001b[0m \u001b[1;33m=\u001b[0m \u001b[0mrk4\u001b[0m\u001b[1;33m(\u001b[0m\u001b[0mXbc_step\u001b[0m\u001b[1;33m,\u001b[0m \u001b[0memparams\u001b[0m\u001b[1;33m)\u001b[0m\u001b[1;33m\u001b[0m\u001b[1;33m\u001b[0m\u001b[0m\n\u001b[0m\u001b[0;32m     51\u001b[0m \u001b[1;33m\u001b[0m\u001b[0m\n\u001b[0;32m     52\u001b[0m     \u001b[1;31m# If the breakpoint happens for higher values of r, keep the new solution\u001b[0m\u001b[1;33m\u001b[0m\u001b[1;33m\u001b[0m\u001b[0m\n",
      "\u001b[1;32m~\\AppData\\Local\\Temp/ipykernel_11252/3610044980.py\u001b[0m in \u001b[0;36mrk4\u001b[1;34m(Xbc, emparams)\u001b[0m\n\u001b[0;32m     36\u001b[0m     \u001b[1;32mfor\u001b[0m \u001b[0mstep\u001b[0m \u001b[1;32min\u001b[0m \u001b[0mnp\u001b[0m\u001b[1;33m.\u001b[0m\u001b[0marange\u001b[0m\u001b[1;33m(\u001b[0m\u001b[1;36m1\u001b[0m\u001b[1;33m,\u001b[0m \u001b[0msteps\u001b[0m\u001b[1;33m)\u001b[0m\u001b[1;33m:\u001b[0m\u001b[1;33m\u001b[0m\u001b[1;33m\u001b[0m\u001b[0m\n\u001b[0;32m     37\u001b[0m         \u001b[0mrnow\u001b[0m \u001b[1;33m=\u001b[0m \u001b[0mrinterv\u001b[0m\u001b[1;33m[\u001b[0m\u001b[0mstep\u001b[0m\u001b[1;33m]\u001b[0m\u001b[1;33m\u001b[0m\u001b[1;33m\u001b[0m\u001b[0m\n\u001b[1;32m---> 38\u001b[1;33m         \u001b[0mXs\u001b[0m\u001b[1;33m[\u001b[0m\u001b[1;33m...\u001b[0m\u001b[1;33m,\u001b[0m \u001b[0mstep\u001b[0m\u001b[1;33m]\u001b[0m \u001b[1;33m=\u001b[0m \u001b[0mrk4step\u001b[0m\u001b[1;33m(\u001b[0m\u001b[0mrnow\u001b[0m\u001b[1;33m,\u001b[0m \u001b[0mXs\u001b[0m\u001b[1;33m[\u001b[0m\u001b[1;33m...\u001b[0m\u001b[1;33m,\u001b[0m \u001b[0mstep\u001b[0m \u001b[1;33m-\u001b[0m \u001b[1;36m1\u001b[0m\u001b[1;33m]\u001b[0m\u001b[1;33m,\u001b[0m \u001b[0memparams\u001b[0m\u001b[1;33m)\u001b[0m\u001b[1;33m\u001b[0m\u001b[1;33m\u001b[0m\u001b[0m\n\u001b[0m\u001b[0;32m     39\u001b[0m \u001b[1;33m\u001b[0m\u001b[0m\n\u001b[0;32m     40\u001b[0m         \u001b[1;31m# The breakpoint 'bpoint' occurs when the solution stops converging to zero at r -> infty\u001b[0m\u001b[1;33m\u001b[0m\u001b[1;33m\u001b[0m\u001b[0m\n",
      "\u001b[1;31mKeyboardInterrupt\u001b[0m: "
     ]
    }
   ],
   "source": [
    "# Finding solutions, emparams in the format [scale = 1, center = 0, size = 0.1]\n",
    "scales = np.linspace(0, 100, 101, endpoint=True)[1:]\n",
    "size_choice = 0.01\n",
    "\n",
    "start_time = time.time()\n",
    "thetas, phis, epsilonbs = [], [], []\n",
    "for scale in scales:\n",
    "    emparams = [scale, 0, size_choice]\n",
    "    phi0_plt = find_sol(emparams)[0]\n",
    "    Xbc_plt = np.array([1, 0, phi0_plt, 0])\n",
    "    Xs, bpoint = rk4(Xbc_plt, emparams)\n",
    "    rinterv_cut, Xs = rinterv[:bpoint], Xs[:, :bpoint]\n",
    "\n",
    "    thetas.append(np.array(list(zip(rinterv_cut, Xs[0].T))))\n",
    "    phis.append(np.array(list(zip(rinterv_cut, Xs[2].T))))\n",
    "\n",
    "    epsilonb = find_epsilonb(rinterv_cut, Xs)[0]\n",
    "    epsilonbs.append(epsilonb)\n",
    "    print('Found solution for emparams = ', emparams, '. It took ', np.round((time.time() - start_time)/60, 2), ' minutes.')\n",
    "    start_time = time.time()"
   ]
  },
  {
   "cell_type": "code",
   "execution_count": 88,
   "metadata": {},
   "outputs": [
    {
     "name": "stderr",
     "output_type": "stream",
     "text": [
      "C:\\Users\\gsali\\AppData\\Local\\Packages\\PythonSoftwareFoundation.Python.3.9_qbz5n2kfra8p0\\LocalCache\\local-packages\\Python39\\site-packages\\numpy\\lib\\npyio.py:719: VisibleDeprecationWarning: Creating an ndarray from ragged nested sequences (which is a list-or-tuple of lists-or-tuples-or ndarrays with different lengths or shapes) is deprecated. If you meant to do this, you must specify 'dtype=object' when creating the ndarray.\n",
      "  val = np.asanyarray(val)\n"
     ]
    }
   ],
   "source": [
    "# Save data\n",
    "np.savez(\"output/bump_s_0_0dot01.npz\", phis = phis, thetas = thetas, epsilonbs = epsilonbs, scales = scales)\n",
    "\n",
    "# Load saved data\n",
    "data = np.load(\"output/bump_s_0_0dot01.npz\", allow_pickle=True)\n",
    "thetas, phis, epsilonbs, scales = data['thetas'], data['phis'], data['epsilonbs'], data['scales']"
   ]
  },
  {
   "cell_type": "code",
   "execution_count": 89,
   "metadata": {},
   "outputs": [
    {
     "data": {
      "image/png": "[encoded data removed]",
      "text/plain": [
       "<Figure size 432x288 with 1 Axes>"
      ]
     },
     "metadata": {
      "needs_background": "light"
     },
     "output_type": "display_data"
    }
   ],
   "source": [
    "# Plotting the solutions\n",
    "for i, theta in enumerate(thetas):\n",
    "    if scales[i] == 0:\n",
    "        plt.plot(theta.T[0], theta.T[1], color = 'red', label = str(scales[i]))\n",
    "    else:\n",
    "        plt.plot(theta.T[0], theta.T[1], color = 'black', label = str(scales[i]))\n",
    "plt.xlabel(\"r\")\n",
    "plt.ylabel('Theta')\n",
    "plt.xlim(left = 0, right = 20);\n",
    "\n",
    "# xvals = []\n",
    "# labelLines(plt.gca().get_lines(),  align=False);"
   ]
  },
  {
   "cell_type": "code",
   "execution_count": 90,
   "metadata": {},
   "outputs": [
    {
     "data": {
      "text/plain": [
       "Text(0, 0.5, 'epsilonb')"
      ]
     },
     "execution_count": 90,
     "metadata": {},
     "output_type": "execute_result"
    },
    {
     "data": {
      "image/png": "[encoded data removed]",
      "text/plain": [
       "<Figure size 432x288 with 1 Axes>"
      ]
     },
     "metadata": {
      "needs_background": "light"
     },
     "output_type": "display_data"
    }
   ],
   "source": [
    "plt.scatter(scales[:60],epsilonbs)\n",
    "plt.xlabel('Amplitude of perturbation')\n",
    "plt.ylabel('epsilonb')"
   ]
  },
  {
   "cell_type": "code",
   "execution_count": 91,
   "metadata": {},
   "outputs": [
    {
     "data": {
      "text/plain": [
       "Text(0, 0.5, 'Phi')"
      ]
     },
     "execution_count": 91,
     "metadata": {},
     "output_type": "execute_result"
    },
    {
     "data": {
      "image/png": "[encoded data removed]",
      "text/plain": [
       "<Figure size 432x288 with 1 Axes>"
      ]
     },
     "metadata": {
      "needs_background": "light"
     },
     "output_type": "display_data"
    }
   ],
   "source": [
    "# Plotting the potentials, emparams in the format [scale, center = 0, size = 1]\n",
    "for i, phi in enumerate(phis):\n",
    "    plt.plot(phi.T[0], phi.T[1] - epsilonbs[i], color = 'black', label = str(scales[i]))\n",
    "plt.xlabel(\"r\")\n",
    "plt.ylabel('Phi')\n",
    "\n",
    "# xvals = [1,1,1,1]\n",
    "# labelLines(plt.gca().get_lines(), xvals = xvals, align=False);"
   ]
  },
  {
   "cell_type": "code",
   "execution_count": null,
   "metadata": {},
   "outputs": [],
   "source": []
  }
 ],
 "metadata": {
  "interpreter": {
   "hash": "c2c1c2c5d31dd2871387777c80104f99faffe262fdebec3dae380fc7c671c441"
  },
  "kernelspec": {
   "display_name": "Python 3.9.7 64-bit (windows store)",
   "name": "python3"
  },
  "language_info": {
   "codemirror_mode": {
    "name": "ipython",
    "version": 3
   },
   "file_extension": ".py",
   "mimetype": "text/x-python",
   "name": "python",
   "nbconvert_exporter": "python",
   "pygments_lexer": "ipython3",
   "version": "3.9.8"
  },
  "orig_nbformat": 4
 },
 "nbformat": 4,
 "nbformat_minor": 2
}
