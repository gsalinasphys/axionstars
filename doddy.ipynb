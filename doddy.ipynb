{
 "cells": [
  {
   "cell_type": "code",
   "execution_count": 1,
   "source": [
    "import numpy as np\r\n",
    "import matplotlib.pyplot as plt"
   ],
   "outputs": [],
   "metadata": {}
  },
  {
   "cell_type": "code",
   "execution_count": 29,
   "source": [
    "# right-hand side of ODE\r\n",
    "\r\n",
    "def f(r, X, eps):\r\n",
    "    f1 = X[1]\r\n",
    "    f2 = -2*X[1]/r + 2*(X[2] - eps)*X[0]\r\n",
    "    f3 = X[3]\r\n",
    "    f4 = -2*X[3]/r + np.power(X[0],2)\r\n",
    "    return np.array([f1, f2, f3, f4])\r\n",
    "\r\n",
    "# interval of solution and number of steps\r\n",
    "ri, rf = 0, 100\r\n",
    "steps = 1000\r\n",
    "dr = (rf - ri)/steps\r\n",
    "rinterv = np.linspace(ri, rf, steps, endpoint=True)\r\n",
    "\r\n",
    "# single step of RK4\r\n",
    "def rk4step(r, X, eps):\r\n",
    "    k1 = dr*f(r, X, eps)\r\n",
    "    k2 = dr*f(r + dr/2, X + k1/2, eps)\r\n",
    "    k3 = dr*f(r + dr/2, X + k2/2, eps)\r\n",
    "    k4 = dr*f(r + dr, X + k3, eps)\r\n",
    "    return X + (k1 + 2*k2 + 2*k3 + k4)/6\r\n",
    "\r\n",
    "def rk4(Xbc, w):\r\n",
    "    # initialize the arrays\r\n",
    "    Xs = np.zeros((4, steps))\r\n",
    "\r\n",
    "    # boundary conditions\r\n",
    "    Xs[..., 0] = Xbc\r\n",
    "\r\n",
    "    # perform RK4\r\n",
    "    for step in np.arange(1, steps):\r\n",
    "        rnow = rinterv[step]\r\n",
    "        Xs[..., step] = rk4step(rnow, Xs[..., step - 1], eps)\r\n",
    "\r\n",
    "    return Xs"
   ],
   "outputs": [],
   "metadata": {}
  },
  {
   "cell_type": "code",
   "execution_count": 34,
   "source": [
    "eps = -0.692\r\n",
    "phi0 = -1.341\r\n",
    "Xbc = np.array([1, 0, phi0, 0])\r\n",
    "\r\n",
    "Xs = rk4(Xbc, eps)\r\n",
    "plt.plot(rinterv[:100], Xs[0].T[:100])\r\n",
    "plt.xlabel(\"r\")\r\n",
    "plt.ylabel(\"theta\")"
   ],
   "outputs": [
    {
     "output_type": "stream",
     "name": "stderr",
     "text": [
      "C:\\Users\\gsali\\AppData\\Local\\Temp/ipykernel_9472/3944738608.py:5: RuntimeWarning: overflow encountered in double_scalars\n",
      "  f2 = -2*X[1]/r + 2*(X[2] - eps)*X[0]\n",
      "C:\\Users\\gsali\\AppData\\Local\\Temp/ipykernel_9472/3944738608.py:7: RuntimeWarning: overflow encountered in power\n",
      "  f4 = -2*X[3]/r + np.power(X[0],2)\n",
      "C:\\Users\\gsali\\AppData\\Local\\Temp/ipykernel_9472/3944738608.py:5: RuntimeWarning: invalid value encountered in double_scalars\n",
      "  f2 = -2*X[1]/r + 2*(X[2] - eps)*X[0]\n",
      "C:\\Users\\gsali\\AppData\\Local\\Temp/ipykernel_9472/3944738608.py:7: RuntimeWarning: invalid value encountered in double_scalars\n",
      "  f4 = -2*X[3]/r + np.power(X[0],2)\n"
     ]
    },
    {
     "output_type": "execute_result",
     "data": {
      "text/plain": [
       "Text(0, 0.5, 'theta')"
      ]
     },
     "metadata": {},
     "execution_count": 34
    },
    {
     "output_type": "display_data",
     "data": {
      "image/png": "[encoded data removed]",
      "text/plain": [
       "<Figure size 432x288 with 1 Axes>"
      ]
     },
     "metadata": {
      "needs_background": "light"
     }
    }
   ],
   "metadata": {}
  }
 ],
 "metadata": {
  "orig_nbformat": 4,
  "language_info": {
   "name": "python",
   "version": "3.9.7",
   "mimetype": "text/x-python",
   "codemirror_mode": {
    "name": "ipython",
    "version": 3
   },
   "pygments_lexer": "ipython3",
   "nbconvert_exporter": "python",
   "file_extension": ".py"
  },
  "kernelspec": {
   "name": "python3",
   "display_name": "Python 3.9.7 64-bit (windows store)"
  },
  "interpreter": {
   "hash": "c2c1c2c5d31dd2871387777c80104f99faffe262fdebec3dae380fc7c671c441"
  }
 },
 "nbformat": 4,
 "nbformat_minor": 2
}