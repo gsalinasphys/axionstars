{
 "cells": [
  {
   "cell_type": "code",
   "execution_count": 4,
   "source": [
    "import numpy as np\r\n",
    "import matplotlib.pyplot as plt"
   ],
   "outputs": [],
   "metadata": {}
  },
  {
   "cell_type": "code",
   "execution_count": 70,
   "source": [
    "# right-hand side of ODE\r\n",
    "\r\n",
    "stretch = 100\r\n",
    "def f(xi, X, gamma):\r\n",
    "    f1 = stretch*X[1]/(1-np.power(xi,2))\r\n",
    "    f2 = stretch*(-2*X[1]/(stretch*np.arctanh(xi)) + 2*(X[2] - gamma)*X[0])/(1-np.power(xi,2))\r\n",
    "    f3 = stretch*X[3]/(1-np.power(xi,2))\r\n",
    "    f4 = stretch*(-2*X[3]/(stretch*np.arctanh(xi)) + np.power(X[0],2))/(1-np.power(xi,2))\r\n",
    "    return np.array([f1, f2, f3, f4])\r\n",
    "\r\n",
    "# interval of solution and number of steps\r\n",
    "xii, xif = 0, 0.1\r\n",
    "steps = 1000\r\n",
    "dxi = (xif - xii)/steps\r\n",
    "xiinterv = np.linspace(xii, xif, steps, endpoint=True)\r\n",
    "\r\n",
    "# single step of RK4\r\n",
    "def rk4step(xi, X, gamma):\r\n",
    "    k1 = dxi*f(xi, X, gamma)\r\n",
    "    k2 = dxi*f(xi + dxi/2, X + k1/2, gamma)\r\n",
    "    k3 = dxi*f(xi + dxi/2, X + k2/2, gamma)\r\n",
    "    k4 = dxi*f(xi + dxi, X + k3, gamma)\r\n",
    "    return X + (k1 + 2*k2 + 2*k3 + k4)/6\r\n",
    "\r\n",
    "def rk4(Xbc, w):\r\n",
    "    # initialize the arrays\r\n",
    "    Xs = np.zeros((4, steps))\r\n",
    "\r\n",
    "    # boundary conditions at xi = xii\r\n",
    "    Xs[..., 0] = Xbc\r\n",
    "\r\n",
    "    # perform RK4\r\n",
    "    for step in np.arange(1, steps):\r\n",
    "        xinow = xiinterv[step]\r\n",
    "        Xs[..., step] = rk4step(xinow, Xs[..., step - 1], gamma)\r\n",
    "\r\n",
    "    return Xs"
   ],
   "outputs": [],
   "metadata": {}
  },
  {
   "cell_type": "code",
   "execution_count": 76,
   "source": [
    "# Reproducing solution from Doddy's papper\r\n",
    "gamma = -0.6920\r\n",
    "phi0 = -1.3415238997\r\n",
    "Xbc = np.array([1, 0, phi0, 0])\r\n",
    "\r\n",
    "Xs = rk4(Xbc, gamma)\r\n",
    "plt.plot(stretch*np.arctanh(xiinterv), Xs[0].T, label = \"theta\")\r\n",
    "plt.plot(stretch*np.arctanh(xiinterv), Xs[2].T, label = \"phi\")\r\n",
    "plt.xlabel(\"r\")\r\n",
    "plt.legend()"
   ],
   "outputs": [
    {
     "output_type": "execute_result",
     "data": {
      "text/plain": [
       "<matplotlib.legend.Legend at 0x24f888be3d0>"
      ]
     },
     "metadata": {},
     "execution_count": 76
    },
    {
     "output_type": "display_data",
     "data": {
      "image/png": "[encoded data removed]",
      "text/plain": [
       "<Figure size 432x288 with 1 Axes>"
      ]
     },
     "metadata": {
      "needs_background": "light"
     }
    }
   ],
   "metadata": {}
  },
  {
   "cell_type": "code",
   "execution_count": null,
   "source": [],
   "outputs": [],
   "metadata": {}
  }
 ],
 "metadata": {
  "orig_nbformat": 4,
  "language_info": {
   "name": "python",
   "version": "3.9.7",
   "mimetype": "text/x-python",
   "codemirror_mode": {
    "name": "ipython",
    "version": 3
   },
   "pygments_lexer": "ipython3",
   "nbconvert_exporter": "python",
   "file_extension": ".py"
  },
  "kernelspec": {
   "name": "python3",
   "display_name": "Python 3.9.7 64-bit (windows store)"
  },
  "interpreter": {
   "hash": "c2c1c2c5d31dd2871387777c80104f99faffe262fdebec3dae380fc7c671c441"
  }
 },
 "nbformat": 4,
 "nbformat_minor": 2
}