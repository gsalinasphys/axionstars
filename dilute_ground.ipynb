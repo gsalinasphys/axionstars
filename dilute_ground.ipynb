{
 "cells": [
  {
   "cell_type": "code",
   "execution_count": 87,
   "source": [
    "import numpy as np\r\n",
    "import matplotlib.pyplot as plt\r\n",
    "from scipy.optimize import curve_fit"
   ],
   "outputs": [],
   "metadata": {}
  },
  {
   "cell_type": "code",
   "execution_count": 99,
   "source": [
    "# right-hand side of ODE from \"Axion dark matter, solitons and the cusp–core problem\" Appendix A\r\n",
    "def f(r, X):\r\n",
    "    f1 = X[1]\r\n",
    "    f2 = -2*X[1]/r + 2*X[2]*X[0]\r\n",
    "    f3 = X[3]\r\n",
    "    f4 = -2*X[3]/r + np.power(X[0],2)\r\n",
    "    return np.array([f1, f2, f3, f4])\r\n",
    "\r\n",
    "# interval of solution and number of steps\r\n",
    "ri, rf, dr = 0, 20, 0.1\r\n",
    "steps = int((rf - ri)//dr)\r\n",
    "rinterv = np.linspace(ri, rf, steps, endpoint=True)\r\n",
    "\r\n",
    "# single step of RK4\r\n",
    "def rk4step(r, X):\r\n",
    "    k1 = dr*f(r, X)\r\n",
    "    k2 = dr*f(r + dr/2, X + k1/2)\r\n",
    "    k3 = dr*f(r + dr/2, X + k2/2)\r\n",
    "    k4 = dr*f(r + dr, X + k3)\r\n",
    "    return X + (k1 + 2*k2 + 2*k3 + k4)/6\r\n",
    "\r\n",
    "def rk4(Xbc):\r\n",
    "    # initialize the arrays\r\n",
    "    Xs = np.zeros((4, steps))\r\n",
    "\r\n",
    "    # boundary conditions at r = ri\r\n",
    "    Xs[..., 0] = Xbc\r\n",
    "\r\n",
    "    # perform RK4\r\n",
    "    bpoint = 0\r\n",
    "    for step in np.arange(1, steps):\r\n",
    "        rnow = rinterv[step]\r\n",
    "        Xs[..., step] = rk4step(rnow, Xs[..., step - 1])\r\n",
    "    \r\n",
    "        # the breakpoint 'bpoint' occurs when the solution stops converging to zero at r -> infty\r\n",
    "        if Xs[..., step][0] > Xs[..., step - 1][0] or Xs[..., step][0] < 0:\r\n",
    "            bpoint = step\r\n",
    "            return Xs, bpoint\r\n",
    "\r\n",
    "    return Xs, bpoint\r\n",
    "\r\n",
    "# Step of Monte Carlo for shooting method\r\n",
    "def mc_step(phi0, bpointold):\r\n",
    "    Xbc_step = np.array([1, 0, phi0, 0])\r\n",
    "    Xs_step, bpoint = rk4(Xbc_step)\r\n",
    "\r\n",
    "    # If the breakpoint happens for higher values of r, keep the new solution (ground state should have breakpoint at infty)\r\n",
    "    if bpoint > bpointold:\r\n",
    "        return True, bpoint\r\n",
    "    elif bpoint <= bpointold:\r\n",
    "        return False, bpointold\r\n",
    "\r\n",
    "# Full Monte Carlo\r\n",
    "def find_sol():\r\n",
    "    bpoint = 0\r\n",
    "    phi0 = np.random.uniform(-1,0)\r\n",
    "\r\n",
    "    nsteps = 5000\r\n",
    "    # count avoids the code 'getting stuck' for large periods of time\r\n",
    "    count, step_stdev = 0, 1\r\n",
    "    for i in np.arange(nsteps):\r\n",
    "        phi0old = phi0\r\n",
    "        phi0 += np.random.normal(0,step_stdev)\r\n",
    "\r\n",
    "        mcs = mc_step(phi0, bpoint)\r\n",
    "        if mcs[0]:\r\n",
    "            bpoint = mcs[1]\r\n",
    "        else:\r\n",
    "            phi0 = phi0old\r\n",
    "            count += 1\r\n",
    "            \r\n",
    "        if count > 100:\r\n",
    "            count = 0\r\n",
    "            step_stdev = step_stdev/10\r\n",
    "\r\n",
    "        if bpoint == steps - 1:\r\n",
    "            return phi0, bpoint\r\n",
    "\r\n",
    "    return phi0, bpoint\r\n",
    "\r\n",
    "# Asymptotic behavior of phi\r\n",
    "def fit_asymp(r, C, gamma):\r\n",
    "        return C/r - gamma\r\n",
    "\r\n",
    "def find_gamma(rinterv_loc, Xs):\r\n",
    "    # Find gamma from asymptotic behavior of phi\r\n",
    "    tail_ini = 100\r\n",
    "    r_asymp, phi_asymp = rinterv_loc[-tail_ini:-1], Xs[2].T[-tail_ini:-1]\r\n",
    "    popt, pcov = curve_fit(fit_asymp, r_asymp, phi_asymp)\r\n",
    "    gamma, gamma_stdev = popt[1], np.sqrt(np.diag(pcov))[1] \r\n",
    "    return gamma, gamma_stdev\r\n",
    "\r\n",
    "def find_phi0(Xs, gamma):\r\n",
    "    # Find phi0 from phi at r = 0\r\n",
    "    phi0 = Xs[2].T[0] + gamma\r\n",
    "    return phi0\r\n",
    "    \r\n",
    "\r\n",
    "# def find_bestsol():\r\n",
    "#     # run find_sol ntimes times, the 'best solution' will have the largest value of bpoint\r\n",
    "#     bpoints, phis, ntimes = [], [], 1\r\n",
    "#     for i in np.arange(ntimes):\r\n",
    "#         phi, bpoint = find_sol()\r\n",
    "#         phis.append(phi)\r\n",
    "#         bpoints.append(bpoint)\r\n",
    "\r\n",
    "#     return phis[bpoints.index(max(bpoints))], np.array(zip(phis, bpoints))"
   ],
   "outputs": [],
   "metadata": {}
  },
  {
   "cell_type": "code",
   "execution_count": 101,
   "source": [
    "# Plotting solution\r\n",
    "phi0_plt = find_sol()[0]\r\n",
    "Xbc_plt = np.array([1, 0, phi0_plt, 0])\r\n",
    "Xs, bpoint = rk4(Xbc_plt)\r\n",
    "rinterv_cut, Xs = rinterv[:bpoint], Xs[:, :bpoint]\r\n",
    "\r\n",
    "gamma = find_gamma(rinterv_cut, Xs)[0]\r\n",
    "print('The value of gamma is:', gamma)\r\n",
    "\r\n",
    "phi0 = find_phi0(Xs, gamma)\r\n",
    "print('The value of phi0 is:', phi0)\r\n",
    "\r\n",
    "plt.plot(rinterv_cut, Xs[0].T, label = \"theta\")\r\n",
    "plt.plot(rinterv_cut, Xs[2].T + gamma, label = \"phi\")\r\n",
    "plt.xlabel(\"r\")\r\n",
    "plt.legend();"
   ],
   "outputs": [
    {
     "output_type": "stream",
     "name": "stdout",
     "text": [
      "The value of gamma is: -0.713101852300912\n",
      "The value of phi0 is: -1.3609108834365164\n"
     ]
    },
    {
     "output_type": "display_data",
     "data": {
      "image/png": "[encoded data removed]",
      "text/plain": [
       "<Figure size 432x288 with 1 Axes>"
      ]
     },
     "metadata": {
      "needs_background": "light"
     }
    }
   ],
   "metadata": {}
  },
  {
   "cell_type": "code",
   "execution_count": 35,
   "source": [
    "# # Save a high resolution run\r\n",
    "# a_file = open(\"hr_ground.txt\", \"w\")\r\n",
    "# for row in Xs:\r\n",
    "#     np.savetxt(a_file, row)\r\n",
    "\r\n",
    "# a_file.close()"
   ],
   "outputs": [],
   "metadata": {}
  },
  {
   "cell_type": "code",
   "execution_count": 86,
   "source": [
    "# Comparison with high resolution run\r\n",
    "Xs_readflat = np.loadtxt(\"hr_ground.txt\")\r\n",
    "rinterv_read = np.linspace(ri, rf, int(len(Xs_readflat)/4), endpoint=True)\r\n",
    "Xs_read = Xs_readflat.reshape(4, int(len(Xs_readflat)/4))\r\n",
    "\r\n",
    "gamma_read = find_gamma(rinterv_read, Xs_read)[0]\r\n",
    "print('gamma:', gamma, '\\t gamma (high res):', gamma_read, '\\t percent error:', np.abs((gamma - gamma_read)/gamma_read)*100, '%')\r\n",
    "\r\n",
    "phi0_read = find_phi0(Xs_read, gamma_read)\r\n",
    "print('phi0:', phi0, '\\t phi0 (high res):', phi0_read,'\\t percent error:', np.abs((phi0 - phi0_read)/phi0_read)*100, '%')\r\n",
    "\r\n",
    "plt.plot(rinterv_read, Xs_read[0].T, label = \"theta (high res)\")\r\n",
    "plt.plot(rinterv[:bpoint], Xs[0].T[:bpoint], label = \"theta\")\r\n",
    "plt.xlabel(\"r\")\r\n",
    "plt.legend();"
   ],
   "outputs": [
    {
     "output_type": "stream",
     "name": "stdout",
     "text": [
      "gamma: -0.6939844753832672 \t gamma (high res): -0.692395413146381 \t percent error: 0.22950213226648214 %\n",
      "phi0: -1.3434146596178913 \t phi0 (high res): -1.341919373544318 \t percent error: 0.1114289057191196 %\n"
     ]
    },
    {
     "output_type": "display_data",
     "data": {
      "image/png": "[encoded data removed]",
      "text/plain": [
       "<Figure size 432x288 with 1 Axes>"
      ]
     },
     "metadata": {
      "needs_background": "light"
     }
    }
   ],
   "metadata": {}
  },
  {
   "cell_type": "code",
   "execution_count": 199,
   "source": [
    "# # Plotting all solutions\r\n",
    "# for phi in phis:\r\n",
    "#     phi0_plt = phi\r\n",
    "#     Xbc_plt = np.array([1, 0, phi0_plt, 0])\r\n",
    "\r\n",
    "#     Xs = rk4(Xbc_plt)[0]\r\n",
    "#     bpoint = rk4(Xbc_plt)[1]\r\n",
    "#     plt.plot(rinterv[:bpoint], Xs[0].T[:bpoint], color = 'blue')\r\n",
    "# plt.xlabel(\"r\")\r\n",
    "# plt.ylabel(\"theta\");"
   ],
   "outputs": [],
   "metadata": {}
  }
 ],
 "metadata": {
  "orig_nbformat": 4,
  "language_info": {
   "name": "python",
   "version": "3.9.7",
   "mimetype": "text/x-python",
   "codemirror_mode": {
    "name": "ipython",
    "version": 3
   },
   "pygments_lexer": "ipython3",
   "nbconvert_exporter": "python",
   "file_extension": ".py"
  },
  "kernelspec": {
   "name": "python3",
   "display_name": "Python 3.9.7 64-bit (windows store)"
  },
  "interpreter": {
   "hash": "c2c1c2c5d31dd2871387777c80104f99faffe262fdebec3dae380fc7c671c441"
  }
 },
 "nbformat": 4,
 "nbformat_minor": 2
}