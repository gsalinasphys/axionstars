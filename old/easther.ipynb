{
 "cells": [
  {
   "cell_type": "code",
   "execution_count": 1,
   "source": [
    "import numpy as np\r\n",
    "import matplotlib.pyplot as plt\r\n",
    "from scipy.sparse.linalg import eigsh\r\n",
    "# from scipy import interpolate\r\n",
    "# import scipy.integrate as integrate"
   ],
   "outputs": [],
   "metadata": {}
  },
  {
   "cell_type": "code",
   "execution_count": 2,
   "source": [
    "# Given a wavefunction u, solve the Poisson equation\r\n",
    "def solve_poisson(us, rs):\r\n",
    "    # Constant set by boundary conditions\r\n",
    "    k = - np.trapz(np.power(us,2)/rs, rs)\r\n",
    "\r\n",
    "    Phis = np.zeros(len(rs))\r\n",
    "    for i, r in enumerate(rs):\r\n",
    "        # Calculate integrals for each value of r\r\n",
    "        u2int = np.trapz(np.power(us[:i],2), rs[:i])\r\n",
    "        u2orint = np.trapz(np.power(us[:i],2)/rs[:i], rs[:i])\r\n",
    "\r\n",
    "        Phis[i] = - 1/r*u2int + u2orint + k\r\n",
    "\r\n",
    "    return Phis\r\n",
    "\r\n",
    "# def solve_poisson(us, rs):\r\n",
    "#     us_refl, rs_refl = np.concatenate((-us, us)), np.concatenate((-rs, rs))\r\n",
    "#     us2 = interpolate.interp1d(rs_refl, us_refl*us_refl)\r\n",
    "#     us2or = lambda r: us2(r)/r\r\n",
    "\r\n",
    "#     k = - integrate.quad(us2or, 0, rs[-1])[0]\r\n",
    "#     Phis = np.zeros(len(rs))\r\n",
    "#     for i, r in enumerate(rs):\r\n",
    "#         u2int = integrate.quad(us2, 0, r)[0]\r\n",
    "#         u2orint = integrate.quad(us2or, 0, r)[0]\r\n",
    "#         Phis[i] = - 1/r*u2int + u2orint + k\r\n",
    "\r\n",
    "#     return Phis\r\n",
    "\r\n",
    "# Given potential Phi, solve Schrodinger equation\r\n",
    "def solve_schr(Phis, rs):\r\n",
    "    rmin, rmax, nr = rs[0], rs[-1], len(rs)\r\n",
    "    dr = (rmax - rmin)/nr\r\n",
    "\r\n",
    "    # Discretized derivatives\r\n",
    "    A = np.zeros((nr, nr)) + np.diag([-2]*nr)\r\n",
    "    for n in np.arange(1,nr):\r\n",
    "        A[n][n - 1] = 1\r\n",
    "        A[n - 1][n] = 1\r\n",
    "    A = -A/(2*np.power(dr,2)) + np.diag(Phis)\r\n",
    "\r\n",
    "    # Solve eigenvalue problem and find ground state\r\n",
    "    eigval, eigvec = eigsh(A, k = 1, which = 'SA')\r\n",
    "    # Normalize eigenvector\r\n",
    "    eigvec = np.array([uelem[0] for uelem in eigvec])\r\n",
    "    norm = np.sqrt(np.trapz(np.power(eigvec,2),rs))\r\n",
    "    eigvec = np.abs(eigvec/norm)\r\n",
    "\r\n",
    "    return eigval[0], eigvec\r\n",
    "\r\n",
    "def find_ground(uguess, rs):\r\n",
    "    eigval, eig_err = 1e5, 1e5\r\n",
    "    while np.abs(eig_err) > 1e-9:\r\n",
    "        Phis_sol = solve_poisson(uguess, rs)\r\n",
    "\r\n",
    "        eigval_old = eigval\r\n",
    "        eigval, uguess = solve_schr(Phis_sol, rs)\r\n",
    "\r\n",
    "        eig_err = (eigval - eigval_old)/ eigval_old\r\n",
    "\r\n",
    "    return uguess"
   ],
   "outputs": [],
   "metadata": {}
  },
  {
   "cell_type": "code",
   "execution_count": 3,
   "source": [
    "rmin, rmax, nr = 1e-2, 15, 500\r\n",
    "rs = np.linspace(rmin, rmax, nr)\r\n",
    "uguess = rs*np.exp(-np.power(rs, 2)/10)\r\n",
    "\r\n",
    "us = find_ground(uguess, rs)\r\n",
    "plt.plot(rs, us/(np.sqrt(4*np.pi)*rs))\r\n",
    "plt.ylim(top = 0.08, bottom = 0)"
   ],
   "outputs": [
    {
     "output_type": "execute_result",
     "data": {
      "text/plain": [
       "(0.0, 0.08)"
      ]
     },
     "metadata": {},
     "execution_count": 3
    },
    {
     "output_type": "display_data",
     "data": {
      "image/png": "[encoded data removed]",
      "text/plain": [
       "<Figure size 432x288 with 1 Axes>"
      ]
     },
     "metadata": {
      "needs_background": "light"
     }
    }
   ],
   "metadata": {}
  }
 ],
 "metadata": {
  "orig_nbformat": 4,
  "language_info": {
   "name": "python",
   "version": "3.9.7",
   "mimetype": "text/x-python",
   "codemirror_mode": {
    "name": "ipython",
    "version": 3
   },
   "pygments_lexer": "ipython3",
   "nbconvert_exporter": "python",
   "file_extension": ".py"
  },
  "kernelspec": {
   "name": "python3",
   "display_name": "Python 3.9.7 64-bit (windows store)"
  },
  "interpreter": {
   "hash": "c2c1c2c5d31dd2871387777c80104f99faffe262fdebec3dae380fc7c671c441"
  }
 },
 "nbformat": 4,
 "nbformat_minor": 2
}