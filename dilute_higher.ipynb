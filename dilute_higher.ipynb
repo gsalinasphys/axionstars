{
 "cells": [
  {
   "cell_type": "code",
   "execution_count": 46,
   "metadata": {},
   "outputs": [],
   "source": [
    "# This code finds higher modes of a dilute axion star via a shooting method\n",
    "import numpy as np\n",
    "import matplotlib.pyplot as plt\n",
    "from scipy.optimize import curve_fit\n",
    "import time"
   ]
  },
  {
   "cell_type": "code",
   "execution_count": 57,
   "metadata": {},
   "outputs": [],
   "source": [
    "# Interval of solution and number of steps\n",
    "ri, rf, dr = 0, 20, 0.01\n",
    "steps = int((rf - ri)//dr)\n",
    "rinterv = np.linspace(ri, rf, steps, endpoint=True)\n",
    "\n",
    "# Right-hand side of ODEs from Eq. (20) on my \"Notes on Axion Stars\", here X = [\\tilde{\\Psi}, \\chi, \\tilde{\\phi}, \\xi]\n",
    "def f(r, X):\n",
    "    f1 = X[1]\n",
    "    f2 = -2*X[1]/r + 2*X[2]*X[0]\n",
    "    f3 = X[3]\n",
    "    f4 = -2*X[3]/r + np.power(X[0],2)\n",
    "    return np.array([f1, f2, f3, f4])\n",
    "\n",
    "# Step of RK4\n",
    "def rk4step(r, X):\n",
    "    k1 = dr*f(r, X)\n",
    "    k2 = dr*f(r + dr/2, X + k1/2)\n",
    "    k3 = dr*f(r + dr/2, X + k2/2)\n",
    "    k4 = dr*f(r + dr, X + k3)\n",
    "    return X + (k1 + 2*k2 + 2*k3 + k4)/6\n",
    "\n",
    "# Full RK4\n",
    "def rk4(Xbc, nodes_target):\n",
    "    # initialize the arrays\n",
    "    Xs = np.zeros((4, steps))\n",
    "\n",
    "    # Boundary conditions at r = ri\n",
    "    Xs[..., 0] = Xbc\n",
    "\n",
    "    # Perform RK4\n",
    "    bpoint, nodes, peaks = 0, -1, -1\n",
    "    for step in np.arange(1, steps):\n",
    "        rnow = rinterv[step]\n",
    "        Xs[..., step] = rk4step(rnow, Xs[..., step - 1])\n",
    "\n",
    "        if np.isnan(Xs[..., step][0]):\n",
    "            break \n",
    "\n",
    "        # Find number of nodes and peaks (points with zero derivative)\n",
    "        nodes, peaks = nnodes(Xs[0][:step]), npeaks(Xs[0][:step])\n",
    "    \n",
    "        # The breakpoint 'bpoint' occurs when the solution with the right number of nodes stops converging to zero at r -> infty\n",
    "        sign_nodes = np.power(-1, nodes_target)\n",
    "        if (sign_nodes*Xs[..., step][0] > sign_nodes*Xs[..., step - 1][0] or sign_nodes*Xs[..., step][0] < 0) and nodes == nodes_target and peaks == nodes:\n",
    "            bpoint = step\n",
    "            return Xs, bpoint, nodes\n",
    "\n",
    "    return Xs, bpoint, nodes\n",
    "\n",
    "# Step of Monte Carlo for shooting method\n",
    "def mc_step(phi0, bpointold, nodes_target):\n",
    "    Xbc_step = np.array([1, 0, phi0, 0])\n",
    "    Xs_step, bpoint, nodes = rk4(Xbc_step, nodes_target)\n",
    "\n",
    "    # If the breakpoint happens for higher values of r, keep the new solution\n",
    "    if bpoint > bpointold and nodes == nodes_target:\n",
    "        return True, bpoint, nodes\n",
    "    else:\n",
    "        return False, bpointold\n",
    "\n",
    "# Full Monte Carlo\n",
    "def find_sol(nodes_target):\n",
    "    bpoint = 0\n",
    "    phi0 = np.random.uniform(-2,0)\n",
    "\n",
    "    nsteps = 5000\n",
    "    count, step_stdev = 0, 1\n",
    "    for i in np.arange(nsteps):\n",
    "        # Give a random kick to phi0\n",
    "        phi0old = phi0\n",
    "        phi0 += np.random.normal(0,step_stdev)\n",
    "\n",
    "        mcs = mc_step(phi0, bpoint, nodes_target)\n",
    "        if mcs[0]:  # If a larger 'bpoint' is found, keep\n",
    "            bpoint = mcs[1]\n",
    "        else:   # If not, back to old valur of phi0\n",
    "            phi0 = phi0old\n",
    "            count += 1\n",
    "        \n",
    "        # Variable 'count' avoids the code 'getting stuck' for large periods of time, makes step smaller when it happens\n",
    "        if count > 100:\n",
    "            count = 0\n",
    "            step_stdev = step_stdev/10\n",
    "\n",
    "        # If the solution does not break in the interval or step is too small, stop\n",
    "        if bpoint == steps - 1 or step_stdev < 1e-20:\n",
    "            return phi0, bpoint\n",
    "\n",
    "    return phi0, bpoint\n",
    "\n",
    "# Asymptotic behavior of phi\n",
    "def fit_asymp(r, C, epsilonb):\n",
    "        return C/r + epsilonb\n",
    "\n",
    "def find_epsilonb(rinterv_loc, Xs):\n",
    "    # Find epsilonb from asymptotic behavior of phi\n",
    "    tail_ini = 100\n",
    "    r_asymp, phi_asymp = rinterv_loc[-tail_ini:-1], Xs[2].T[-tail_ini:-1]\n",
    "    popt, pcov = curve_fit(fit_asymp, r_asymp, phi_asymp)\n",
    "    # The error from the fit is epsilonb_stdev\n",
    "    epsilonb, epsilonb_stdev = popt[1], np.sqrt(np.diag(pcov))[1] \n",
    "    return epsilonb, epsilonb_stdev\n",
    "\n",
    "# Number of nodes of a 1d function described by an array Xs\n",
    "def nnodes(Xs):\n",
    "    Xs_prod = Xs[:len(Xs) - 1]*Xs[1:len(Xs)]\n",
    "    return (Xs_prod < 0).sum()\n",
    "\n",
    "# Number of peaks (points with zero derivative) of a 1d function described by an array Xs\n",
    "def npeaks(Xs):\n",
    "    Xs_diffs = Xs[1:len(Xs)] - Xs[:len(Xs) - 1]\n",
    "    Xs_diffs_prod = Xs_diffs[:len(Xs_diffs) - 1]*Xs_diffs[1:len(Xs_diffs)]\n",
    "    return (Xs_diffs_prod < 0).sum()"
   ]
  },
  {
   "cell_type": "code",
   "execution_count": 58,
   "metadata": {},
   "outputs": [
    {
     "name": "stderr",
     "output_type": "stream",
     "text": [
      "C:\\Users\\gsali\\AppData\\Local\\Temp/ipykernel_13176/1641193059.py:9: RuntimeWarning: overflow encountered in double_scalars\n",
      "  f2 = -2*X[1]/r + 2*X[2]*X[0]\n",
      "C:\\Users\\gsali\\AppData\\Local\\Temp/ipykernel_13176/1641193059.py:11: RuntimeWarning: overflow encountered in power\n",
      "  f4 = -2*X[3]/r + np.power(X[0],2)\n",
      "C:\\Users\\gsali\\AppData\\Local\\Temp/ipykernel_13176/1641193059.py:9: RuntimeWarning: invalid value encountered in double_scalars\n",
      "  f2 = -2*X[1]/r + 2*X[2]*X[0]\n",
      "C:\\Users\\gsali\\AppData\\Local\\Temp/ipykernel_13176/1641193059.py:11: RuntimeWarning: invalid value encountered in double_scalars\n",
      "  f4 = -2*X[3]/r + np.power(X[0],2)\n"
     ]
    }
   ],
   "source": [
    "# Find solutions with number of nodes from nodes_min to nodes_max\n",
    "nodes_min, nodes_max = 1, 1\n",
    "nodes_lst = np.arange(nodes_min, nodes_max + 1)\n",
    "\n",
    "start_time = time.time()\n",
    "all_phi0s = []\n",
    "for node in nodes_lst:\n",
    "    thisphi0 = find_sol(node)[0]\n",
    "    all_phi0s.append(thisphi0)\n",
    "    print('Found solution for ', node, ' nodes. It took ', time.time() - start_time, ' seconds.')\n",
    "\n",
    "# Save phi0s for all the different number of nodes\n",
    "a_file = open(\"output/allphis_test.txt\", \"w\")\n",
    "np.savetxt(a_file, all_phi0s)\n",
    "\n",
    "a_file.close()"
   ]
  },
  {
   "cell_type": "code",
   "execution_count": 40,
   "metadata": {},
   "outputs": [
    {
     "name": "stdout",
     "output_type": "stream",
     "text": [
      "The value of epsilonb is:  -0.0869316236052279\n",
      "The value of tilde phi0 is:  -1.1253586020048147\n"
     ]
    },
    {
     "data": {
      "image/png": "[encoded data removed]",
      "text/plain": [
       "<Figure size 432x288 with 1 Axes>"
      ]
     },
     "metadata": {
      "needs_background": "light"
     },
     "output_type": "display_data"
    }
   ],
   "source": [
    "all_phi0s = np.loadtxt('output/allphis_test.txt')\n",
    "\n",
    "# Plotting solution with number of nodes equal to nodes_target\n",
    "nodes_target = 4\n",
    "phi0_plt = all_phi0s[nodes_target - 1]\n",
    "Xbc_plt = np.array([1, 0, phi0_plt, 0])\n",
    "Xs, bpoint, nodes = rk4(Xbc_plt, nodes_target)\n",
    "rinterv_cut, Xs = rinterv[:bpoint], Xs[:, :bpoint]\n",
    "\n",
    "epsilonb = find_epsilonb(rinterv_cut, Xs)[0]\n",
    "print('The value of epsilonb is: ', epsilonb)\n",
    "print('The value of tilde phi0 is: ', Xs[2].T[0])\n",
    "\n",
    "\n",
    "plt.plot(rinterv_cut, Xs[0].T, 'k-', label = \"theta\")\n",
    "plt.plot(rinterv_cut, Xs[2].T - epsilonb, 'k--', label = \"phi\")\n",
    "plt.xlabel(r\"$r$\")\n",
    "plt.xlim(left = 0, right = rinterv[bpoint])\n",
    "plt.legend();\n",
    "\n",
    "name_file = 'plots/' + str(nodes_target) + 'nodes.pdf'\n",
    "plt.savefig(name_file, dpi = 300, bbox_inches='tight')\n"
   ]
  },
  {
   "cell_type": "code",
   "execution_count": null,
   "metadata": {},
   "outputs": [],
   "source": []
  }
 ],
 "metadata": {
  "interpreter": {
   "hash": "c2c1c2c5d31dd2871387777c80104f99faffe262fdebec3dae380fc7c671c441"
  },
  "kernelspec": {
   "display_name": "Python 3.9.7 64-bit (windows store)",
   "name": "python3"
  },
  "language_info": {
   "codemirror_mode": {
    "name": "ipython",
    "version": 3
   },
   "file_extension": ".py",
   "mimetype": "text/x-python",
   "name": "python",
   "nbconvert_exporter": "python",
   "pygments_lexer": "ipython3",
   "version": "3.9.7"
  },
  "orig_nbformat": 4
 },
 "nbformat": 4,
 "nbformat_minor": 2
}
