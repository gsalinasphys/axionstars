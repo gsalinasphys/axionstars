{
 "cells": [
  {
   "cell_type": "code",
   "execution_count": 33,
   "metadata": {},
   "outputs": [],
   "source": [
    "import numpy as np\n",
    "import matplotlib.pyplot as plt\n",
    "from scipy.optimize import curve_fit\n",
    "import time\n",
    "# from labellines import labelLine, labelLines"
   ]
  },
  {
   "cell_type": "code",
   "execution_count": 58,
   "metadata": {},
   "outputs": [],
   "source": [
    "# interval of solution and number of steps\n",
    "ri, rf, dr = 0, 20, 0.001\n",
    "steps = int((rf - ri)//dr)\n",
    "rinterv = np.linspace(ri, rf, steps, endpoint=True)\n",
    "\n",
    "# EM Gaussian profile, emparams in the format [scale, center, size] = [A, r0, delta_r] from Eq. (36) in my \"Notes on Axion Stars\"\n",
    "def em_prfl(r, emparams):\n",
    "    return emparams[0]*np.exp(-np.power((r - emparams[1])/emparams[2],2)/2)\n",
    "\n",
    "# Right-hand side of ODEs from Eq. (35) in my \"Notes on Axion Stars\", here X = [\\tilde{\\Psi}, \\chi, \\tilde{\\phi}, \\xi]\n",
    "def f(r, X, emparams):\n",
    "    f1 = X[1]\n",
    "    f2 = -2*X[1]/r + 2*X[2]*X[0] - em_prfl(r, emparams)\n",
    "    f3 = X[3]\n",
    "    f4 = -2*X[3]/r + np.power(X[0],2)\n",
    "    return np.array([f1, f2, f3, f4])\n",
    "\n",
    "# Single step of RK4\n",
    "def rk4step(r, X, emparams):\n",
    "    k1 = dr*f(r, X, emparams)\n",
    "    k2 = dr*f(r + dr/2, X + k1/2, emparams)\n",
    "    k3 = dr*f(r + dr/2, X + k2/2, emparams)\n",
    "    k4 = dr*f(r + dr, X + k3, emparams)\n",
    "    return X + (k1 + 2*k2 + 2*k3 + k4)/6\n",
    "\n",
    "# Full RK4\n",
    "def rk4(Xbc, emparams):\n",
    "    # Initialize the arrays\n",
    "    Xs = np.zeros((4, steps))\n",
    "\n",
    "    # Boundary conditions at r = ri\n",
    "    Xs[..., 0] = Xbc\n",
    "\n",
    "    # Perform RK4\n",
    "    bpoint = 0\n",
    "    for step in np.arange(1, steps):\n",
    "        rnow = rinterv[step]\n",
    "        Xs[..., step] = rk4step(rnow, Xs[..., step - 1], emparams)\n",
    "    \n",
    "        # The breakpoint 'bpoint' occurs when the solution stops converging to zero at r -> infty\n",
    "        if Xs[..., step][0] > Xs[..., step - 1][0] or Xs[..., step][0] < 0:\n",
    "            bpoint = step\n",
    "            return Xs, bpoint\n",
    "\n",
    "    return Xs, bpoint\n",
    "\n",
    "# Step of Monte Carlo for shooting method\n",
    "def mc_step(phi0, bpointold, emparams):\n",
    "    Xbc_step = np.array([1, 0, phi0, 0])\n",
    "    Xs_step, bpoint = rk4(Xbc_step, emparams)\n",
    "\n",
    "    # If the breakpoint happens for higher values of r, keep the new solution\n",
    "    if bpoint > bpointold:\n",
    "        return True, bpoint\n",
    "    elif bpoint <= bpointold:\n",
    "        return False, bpointold\n",
    "\n",
    "# Full Monte Carlo\n",
    "def find_sol(emparams):\n",
    "    bpoint = 0\n",
    "    phi0 = np.random.uniform(-1,0)\n",
    "\n",
    "    nsteps = 5000\n",
    "    count, step_stdev = 0, 1\n",
    "    for i in np.arange(nsteps):\n",
    "        # Give a random kick to phi0\n",
    "        phi0old = phi0\n",
    "        phi0 += np.random.normal(0,step_stdev)\n",
    "\n",
    "        mcs = mc_step(phi0, bpoint, emparams)\n",
    "        if mcs[0]:  # If a larger 'bpoint' is found, keep\n",
    "            bpoint = mcs[1]\n",
    "        else:   # If not, back to old valur of phi0\n",
    "            phi0 = phi0old\n",
    "            count += 1\n",
    "        \n",
    "        # Variable 'count' avoids the code 'getting stuck' for large periods of time, makes step smaller when it happens\n",
    "        if count > 100:\n",
    "            count = 0\n",
    "            step_stdev = step_stdev/10\n",
    "\n",
    "        # If the solution does not break in the interval or step is too small, stop\n",
    "        if bpoint == steps - 1 or step_stdev < 1e-20:\n",
    "            return phi0, bpoint\n",
    "\n",
    "    return phi0, bpoint\n",
    "\n",
    "# Asymptotic behavior of phi\n",
    "def fit_asymp(r, C, epsilonb):\n",
    "        return C/r + epsilonb\n",
    "\n",
    "def find_epsilonb(rinterv_loc, Xs):\n",
    "    # Find epsilonb from asymptotic behavior of phi\n",
    "    tail_ini = 100\n",
    "    r_asymp, phi_asymp = rinterv_loc[-tail_ini:-1], Xs[2].T[-tail_ini:-1]\n",
    "    popt, pcov = curve_fit(fit_asymp, r_asymp, phi_asymp)\n",
    "    # The error from the fit is epsilonb_stdev\n",
    "    epsilonb, epsilonb_stdev = popt[1], np.sqrt(np.diag(pcov))[1] \n",
    "    return epsilonb, epsilonb_stdev"
   ]
  },
  {
   "cell_type": "code",
   "execution_count": 24,
   "metadata": {},
   "outputs": [
    {
     "name": "stdout",
     "output_type": "stream",
     "text": [
      "The value of epsilonb is: 0.6889066964156552\n",
      "The value of tilde phi0 is: -0.6471443334660724\n"
     ]
    },
    {
     "data": {
      "image/png": "[encoded data removed]",
      "text/plain": [
       "<Figure size 432x288 with 1 Axes>"
      ]
     },
     "metadata": {
      "needs_background": "light"
     },
     "output_type": "display_data"
    }
   ],
   "source": [
    "# Plotting solution\n",
    "emparams = [0.1, 0, 0.1] # emparams in the format [scale, center, size]\n",
    "phi0_plt = find_sol(emparams)[0]\n",
    "Xbc_plt = np.array([1, 0, phi0_plt, 0])\n",
    "Xs, bpoint = rk4(Xbc_plt, emparams)\n",
    "rinterv_cut, Xs = rinterv[:bpoint], Xs[:, :bpoint]\n",
    "\n",
    "epsilonb = find_epsilonb(rinterv_cut, Xs)[0]\n",
    "print('The value of epsilonb is:', epsilonb)\n",
    "print('The value of tilde phi0 is:', Xs[2].T[0])\n",
    "\n",
    "plt.plot(rinterv_cut, Xs[0].T, 'k-', label = \"theta\")\n",
    "plt.plot(rinterv_cut, Xs[2].T - epsilonb, 'k--', label = \"phi\")\n",
    "plt.xlabel(\"r\")\n",
    "plt.legend();"
   ]
  },
  {
   "cell_type": "code",
   "execution_count": 80,
   "metadata": {},
   "outputs": [
    {
     "name": "stdout",
     "output_type": "stream",
     "text": [
      "Found solution for emparams =  [1.0, 0, 0.01] . It took  20.23  minutes.\n",
      "Found solution for emparams =  [2.0, 0, 0.01] . It took  20.25  minutes.\n",
      "Found solution for emparams =  [3.0, 0, 0.01] . It took  20.56  minutes.\n",
      "Found solution for emparams =  [4.0, 0, 0.01] . It took  20.51  minutes.\n",
      "Found solution for emparams =  [5.0, 0, 0.01] . It took  20.43  minutes.\n",
      "Found solution for emparams =  [6.0, 0, 0.01] . It took  20.57  minutes.\n",
      "Found solution for emparams =  [7.0, 0, 0.01] . It took  21.57  minutes.\n",
      "Found solution for emparams =  [8.0, 0, 0.01] . It took  20.15  minutes.\n",
      "Found solution for emparams =  [9.0, 0, 0.01] . It took  19.77  minutes.\n",
      "Found solution for emparams =  [10.0, 0, 0.01] . It took  19.81  minutes.\n",
      "Found solution for emparams =  [11.0, 0, 0.01] . It took  19.72  minutes.\n",
      "Found solution for emparams =  [12.0, 0, 0.01] . It took  19.8  minutes.\n",
      "Found solution for emparams =  [13.0, 0, 0.01] . It took  19.74  minutes.\n",
      "Found solution for emparams =  [14.0, 0, 0.01] . It took  19.71  minutes.\n",
      "Found solution for emparams =  [15.0, 0, 0.01] . It took  19.58  minutes.\n",
      "Found solution for emparams =  [16.0, 0, 0.01] . It took  19.67  minutes.\n",
      "Found solution for emparams =  [17.0, 0, 0.01] . It took  19.59  minutes.\n",
      "Found solution for emparams =  [18.0, 0, 0.01] . It took  19.62  minutes.\n",
      "Found solution for emparams =  [19.0, 0, 0.01] . It took  19.85  minutes.\n",
      "Found solution for emparams =  [20.0, 0, 0.01] . It took  19.9  minutes.\n",
      "Found solution for emparams =  [21.0, 0, 0.01] . It took  12.86  minutes.\n",
      "Found solution for emparams =  [22.0, 0, 0.01] . It took  19.7  minutes.\n",
      "Found solution for emparams =  [23.0, 0, 0.01] . It took  19.61  minutes.\n",
      "Found solution for emparams =  [24.0, 0, 0.01] . It took  19.72  minutes.\n",
      "Found solution for emparams =  [25.0, 0, 0.01] . It took  19.59  minutes.\n",
      "Found solution for emparams =  [26.0, 0, 0.01] . It took  19.65  minutes.\n",
      "Found solution for emparams =  [27.0, 0, 0.01] . It took  19.76  minutes.\n",
      "Found solution for emparams =  [28.0, 0, 0.01] . It took  19.72  minutes.\n",
      "Found solution for emparams =  [29.0, 0, 0.01] . It took  19.91  minutes.\n",
      "Found solution for emparams =  [30.0, 0, 0.01] . It took  20.0  minutes.\n",
      "Found solution for emparams =  [31.0, 0, 0.01] . It took  19.87  minutes.\n",
      "Found solution for emparams =  [32.0, 0, 0.01] . It took  19.74  minutes.\n",
      "Found solution for emparams =  [33.0, 0, 0.01] . It took  19.81  minutes.\n",
      "Found solution for emparams =  [34.0, 0, 0.01] . It took  19.73  minutes.\n",
      "Found solution for emparams =  [35.0, 0, 0.01] . It took  19.61  minutes.\n",
      "Found solution for emparams =  [36.0, 0, 0.01] . It took  19.58  minutes.\n",
      "Found solution for emparams =  [37.0, 0, 0.01] . It took  19.6  minutes.\n",
      "Found solution for emparams =  [38.0, 0, 0.01] . It took  19.62  minutes.\n",
      "Found solution for emparams =  [39.0, 0, 0.01] . It took  19.66  minutes.\n",
      "Found solution for emparams =  [40.0, 0, 0.01] . It took  19.71  minutes.\n",
      "Found solution for emparams =  [41.0, 0, 0.01] . It took  19.64  minutes.\n",
      "Found solution for emparams =  [42.0, 0, 0.01] . It took  19.73  minutes.\n",
      "Found solution for emparams =  [43.0, 0, 0.01] . It took  11.11  minutes.\n",
      "Found solution for emparams =  [44.0, 0, 0.01] . It took  19.75  minutes.\n",
      "Found solution for emparams =  [45.0, 0, 0.01] . It took  19.72  minutes.\n",
      "Found solution for emparams =  [46.0, 0, 0.01] . It took  19.68  minutes.\n",
      "Found solution for emparams =  [47.0, 0, 0.01] . It took  19.53  minutes.\n",
      "Found solution for emparams =  [48.0, 0, 0.01] . It took  19.71  minutes.\n",
      "Found solution for emparams =  [49.0, 0, 0.01] . It took  19.78  minutes.\n",
      "Found solution for emparams =  [50.0, 0, 0.01] . It took  19.84  minutes.\n",
      "Found solution for emparams =  [51.0, 0, 0.01] . It took  19.7  minutes.\n",
      "Found solution for emparams =  [52.0, 0, 0.01] . It took  19.78  minutes.\n",
      "Found solution for emparams =  [53.0, 0, 0.01] . It took  19.56  minutes.\n",
      "Found solution for emparams =  [54.0, 0, 0.01] . It took  19.82  minutes.\n",
      "Found solution for emparams =  [55.0, 0, 0.01] . It took  19.86  minutes.\n",
      "Found solution for emparams =  [56.0, 0, 0.01] . It took  11.29  minutes.\n",
      "Found solution for emparams =  [57.0, 0, 0.01] . It took  20.13  minutes.\n",
      "Found solution for emparams =  [58.0, 0, 0.01] . It took  19.67  minutes.\n",
      "Found solution for emparams =  [59.0, 0, 0.01] . It took  19.72  minutes.\n",
      "Found solution for emparams =  [60.0, 0, 0.01] . It took  20.18  minutes.\n"
     ]
    },
    {
     "ename": "KeyboardInterrupt",
     "evalue": "",
     "output_type": "error",
     "traceback": [
      "\u001b[1;31m---------------------------------------------------------------------------\u001b[0m",
      "\u001b[1;31mKeyboardInterrupt\u001b[0m                         Traceback (most recent call last)",
      "\u001b[1;32m~\\AppData\\Local\\Temp/ipykernel_11252/1770421099.py\u001b[0m in \u001b[0;36m<module>\u001b[1;34m\u001b[0m\n\u001b[0;32m      7\u001b[0m \u001b[1;32mfor\u001b[0m \u001b[0mscale\u001b[0m \u001b[1;32min\u001b[0m \u001b[0mscales\u001b[0m\u001b[1;33m:\u001b[0m\u001b[1;33m\u001b[0m\u001b[1;33m\u001b[0m\u001b[0m\n\u001b[0;32m      8\u001b[0m     \u001b[0memparams\u001b[0m \u001b[1;33m=\u001b[0m \u001b[1;33m[\u001b[0m\u001b[0mscale\u001b[0m\u001b[1;33m,\u001b[0m \u001b[1;36m0\u001b[0m\u001b[1;33m,\u001b[0m \u001b[0msize_choice\u001b[0m\u001b[1;33m]\u001b[0m\u001b[1;33m\u001b[0m\u001b[1;33m\u001b[0m\u001b[0m\n\u001b[1;32m----> 9\u001b[1;33m     \u001b[0mphi0_plt\u001b[0m \u001b[1;33m=\u001b[0m \u001b[0mfind_sol\u001b[0m\u001b[1;33m(\u001b[0m\u001b[0memparams\u001b[0m\u001b[1;33m)\u001b[0m\u001b[1;33m[\u001b[0m\u001b[1;36m0\u001b[0m\u001b[1;33m]\u001b[0m\u001b[1;33m\u001b[0m\u001b[1;33m\u001b[0m\u001b[0m\n\u001b[0m\u001b[0;32m     10\u001b[0m     \u001b[0mXbc_plt\u001b[0m \u001b[1;33m=\u001b[0m \u001b[0mnp\u001b[0m\u001b[1;33m.\u001b[0m\u001b[0marray\u001b[0m\u001b[1;33m(\u001b[0m\u001b[1;33m[\u001b[0m\u001b[1;36m1\u001b[0m\u001b[1;33m,\u001b[0m \u001b[1;36m0\u001b[0m\u001b[1;33m,\u001b[0m \u001b[0mphi0_plt\u001b[0m\u001b[1;33m,\u001b[0m \u001b[1;36m0\u001b[0m\u001b[1;33m]\u001b[0m\u001b[1;33m)\u001b[0m\u001b[1;33m\u001b[0m\u001b[1;33m\u001b[0m\u001b[0m\n\u001b[0;32m     11\u001b[0m     \u001b[0mXs\u001b[0m\u001b[1;33m,\u001b[0m \u001b[0mbpoint\u001b[0m \u001b[1;33m=\u001b[0m \u001b[0mrk4\u001b[0m\u001b[1;33m(\u001b[0m\u001b[0mXbc_plt\u001b[0m\u001b[1;33m,\u001b[0m \u001b[0memparams\u001b[0m\u001b[1;33m)\u001b[0m\u001b[1;33m\u001b[0m\u001b[1;33m\u001b[0m\u001b[0m\n",
      "\u001b[1;32m~\\AppData\\Local\\Temp/ipykernel_11252/3610044980.py\u001b[0m in \u001b[0;36mfind_sol\u001b[1;34m(emparams)\u001b[0m\n\u001b[0;32m     68\u001b[0m         \u001b[0mphi0\u001b[0m \u001b[1;33m+=\u001b[0m \u001b[0mnp\u001b[0m\u001b[1;33m.\u001b[0m\u001b[0mrandom\u001b[0m\u001b[1;33m.\u001b[0m\u001b[0mnormal\u001b[0m\u001b[1;33m(\u001b[0m\u001b[1;36m0\u001b[0m\u001b[1;33m,\u001b[0m\u001b[0mstep_stdev\u001b[0m\u001b[1;33m)\u001b[0m\u001b[1;33m\u001b[0m\u001b[1;33m\u001b[0m\u001b[0m\n\u001b[0;32m     69\u001b[0m \u001b[1;33m\u001b[0m\u001b[0m\n\u001b[1;32m---> 70\u001b[1;33m         \u001b[0mmcs\u001b[0m \u001b[1;33m=\u001b[0m \u001b[0mmc_step\u001b[0m\u001b[1;33m(\u001b[0m\u001b[0mphi0\u001b[0m\u001b[1;33m,\u001b[0m \u001b[0mbpoint\u001b[0m\u001b[1;33m,\u001b[0m \u001b[0memparams\u001b[0m\u001b[1;33m)\u001b[0m\u001b[1;33m\u001b[0m\u001b[1;33m\u001b[0m\u001b[0m\n\u001b[0m\u001b[0;32m     71\u001b[0m         \u001b[1;32mif\u001b[0m \u001b[0mmcs\u001b[0m\u001b[1;33m[\u001b[0m\u001b[1;36m0\u001b[0m\u001b[1;33m]\u001b[0m\u001b[1;33m:\u001b[0m  \u001b[1;31m# If a larger 'bpoint' is found, keep\u001b[0m\u001b[1;33m\u001b[0m\u001b[1;33m\u001b[0m\u001b[0m\n\u001b[0;32m     72\u001b[0m             \u001b[0mbpoint\u001b[0m \u001b[1;33m=\u001b[0m \u001b[0mmcs\u001b[0m\u001b[1;33m[\u001b[0m\u001b[1;36m1\u001b[0m\u001b[1;33m]\u001b[0m\u001b[1;33m\u001b[0m\u001b[1;33m\u001b[0m\u001b[0m\n",
      "\u001b[1;32m~\\AppData\\Local\\Temp/ipykernel_11252/3610044980.py\u001b[0m in \u001b[0;36mmc_step\u001b[1;34m(phi0, bpointold, emparams)\u001b[0m\n\u001b[0;32m     48\u001b[0m \u001b[1;32mdef\u001b[0m \u001b[0mmc_step\u001b[0m\u001b[1;33m(\u001b[0m\u001b[0mphi0\u001b[0m\u001b[1;33m,\u001b[0m \u001b[0mbpointold\u001b[0m\u001b[1;33m,\u001b[0m \u001b[0memparams\u001b[0m\u001b[1;33m)\u001b[0m\u001b[1;33m:\u001b[0m\u001b[1;33m\u001b[0m\u001b[1;33m\u001b[0m\u001b[0m\n\u001b[0;32m     49\u001b[0m     \u001b[0mXbc_step\u001b[0m \u001b[1;33m=\u001b[0m \u001b[0mnp\u001b[0m\u001b[1;33m.\u001b[0m\u001b[0marray\u001b[0m\u001b[1;33m(\u001b[0m\u001b[1;33m[\u001b[0m\u001b[1;36m1\u001b[0m\u001b[1;33m,\u001b[0m \u001b[1;36m0\u001b[0m\u001b[1;33m,\u001b[0m \u001b[0mphi0\u001b[0m\u001b[1;33m,\u001b[0m \u001b[1;36m0\u001b[0m\u001b[1;33m]\u001b[0m\u001b[1;33m)\u001b[0m\u001b[1;33m\u001b[0m\u001b[1;33m\u001b[0m\u001b[0m\n\u001b[1;32m---> 50\u001b[1;33m     \u001b[0mXs_step\u001b[0m\u001b[1;33m,\u001b[0m \u001b[0mbpoint\u001b[0m \u001b[1;33m=\u001b[0m \u001b[0mrk4\u001b[0m\u001b[1;33m(\u001b[0m\u001b[0mXbc_step\u001b[0m\u001b[1;33m,\u001b[0m \u001b[0memparams\u001b[0m\u001b[1;33m)\u001b[0m\u001b[1;33m\u001b[0m\u001b[1;33m\u001b[0m\u001b[0m\n\u001b[0m\u001b[0;32m     51\u001b[0m \u001b[1;33m\u001b[0m\u001b[0m\n\u001b[0;32m     52\u001b[0m     \u001b[1;31m# If the breakpoint happens for higher values of r, keep the new solution\u001b[0m\u001b[1;33m\u001b[0m\u001b[1;33m\u001b[0m\u001b[0m\n",
      "\u001b[1;32m~\\AppData\\Local\\Temp/ipykernel_11252/3610044980.py\u001b[0m in \u001b[0;36mrk4\u001b[1;34m(Xbc, emparams)\u001b[0m\n\u001b[0;32m     36\u001b[0m     \u001b[1;32mfor\u001b[0m \u001b[0mstep\u001b[0m \u001b[1;32min\u001b[0m \u001b[0mnp\u001b[0m\u001b[1;33m.\u001b[0m\u001b[0marange\u001b[0m\u001b[1;33m(\u001b[0m\u001b[1;36m1\u001b[0m\u001b[1;33m,\u001b[0m \u001b[0msteps\u001b[0m\u001b[1;33m)\u001b[0m\u001b[1;33m:\u001b[0m\u001b[1;33m\u001b[0m\u001b[1;33m\u001b[0m\u001b[0m\n\u001b[0;32m     37\u001b[0m         \u001b[0mrnow\u001b[0m \u001b[1;33m=\u001b[0m \u001b[0mrinterv\u001b[0m\u001b[1;33m[\u001b[0m\u001b[0mstep\u001b[0m\u001b[1;33m]\u001b[0m\u001b[1;33m\u001b[0m\u001b[1;33m\u001b[0m\u001b[0m\n\u001b[1;32m---> 38\u001b[1;33m         \u001b[0mXs\u001b[0m\u001b[1;33m[\u001b[0m\u001b[1;33m...\u001b[0m\u001b[1;33m,\u001b[0m \u001b[0mstep\u001b[0m\u001b[1;33m]\u001b[0m \u001b[1;33m=\u001b[0m \u001b[0mrk4step\u001b[0m\u001b[1;33m(\u001b[0m\u001b[0mrnow\u001b[0m\u001b[1;33m,\u001b[0m \u001b[0mXs\u001b[0m\u001b[1;33m[\u001b[0m\u001b[1;33m...\u001b[0m\u001b[1;33m,\u001b[0m \u001b[0mstep\u001b[0m \u001b[1;33m-\u001b[0m \u001b[1;36m1\u001b[0m\u001b[1;33m]\u001b[0m\u001b[1;33m,\u001b[0m \u001b[0memparams\u001b[0m\u001b[1;33m)\u001b[0m\u001b[1;33m\u001b[0m\u001b[1;33m\u001b[0m\u001b[0m\n\u001b[0m\u001b[0;32m     39\u001b[0m \u001b[1;33m\u001b[0m\u001b[0m\n\u001b[0;32m     40\u001b[0m         \u001b[1;31m# The breakpoint 'bpoint' occurs when the solution stops converging to zero at r -> infty\u001b[0m\u001b[1;33m\u001b[0m\u001b[1;33m\u001b[0m\u001b[0m\n",
      "\u001b[1;31mKeyboardInterrupt\u001b[0m: "
     ]
    }
   ],
   "source": [
    "# Finding solutions, emparams in the format [scale = 1, center = 0, size = 0.1]\n",
    "scales = np.linspace(0, 100, 101, endpoint=True)[1:]\n",
    "size_choice = 0.01\n",
    "\n",
    "start_time = time.time()\n",
    "thetas, phis, epsilonbs = [], [], []\n",
    "for scale in scales:\n",
    "    emparams = [scale, 0, size_choice]\n",
    "    phi0_plt = find_sol(emparams)[0]\n",
    "    Xbc_plt = np.array([1, 0, phi0_plt, 0])\n",
    "    Xs, bpoint = rk4(Xbc_plt, emparams)\n",
    "    rinterv_cut, Xs = rinterv[:bpoint], Xs[:, :bpoint]\n",
    "\n",
    "    thetas.append(np.array(list(zip(rinterv_cut, Xs[0].T))))\n",
    "    phis.append(np.array(list(zip(rinterv_cut, Xs[2].T))))\n",
    "\n",
    "    epsilonb = find_epsilonb(rinterv_cut, Xs)[0]\n",
    "    epsilonbs.append(epsilonb)\n",
    "    print('Found solution for emparams = ', emparams, '. It took ', np.round((time.time() - start_time)/60, 2), ' minutes.')\n",
    "    start_time = time.time()"
   ]
  },
  {
   "cell_type": "code",
   "execution_count": 88,
   "metadata": {},
   "outputs": [
    {
     "name": "stderr",
     "output_type": "stream",
     "text": [
      "C:\\Users\\gsali\\AppData\\Local\\Packages\\PythonSoftwareFoundation.Python.3.9_qbz5n2kfra8p0\\LocalCache\\local-packages\\Python39\\site-packages\\numpy\\lib\\npyio.py:719: VisibleDeprecationWarning: Creating an ndarray from ragged nested sequences (which is a list-or-tuple of lists-or-tuples-or ndarrays with different lengths or shapes) is deprecated. If you meant to do this, you must specify 'dtype=object' when creating the ndarray.\n",
      "  val = np.asanyarray(val)\n"
     ]
    }
   ],
   "source": [
    "# Save data\n",
    "np.savez(\"output/bump_s_0_0dot01.npz\", phis = phis, thetas = thetas, epsilonbs = epsilonbs, scales = scales)\n",
    "\n",
    "# Load saved data\n",
    "data = np.load(\"output/bump_s_0_0dot01.npz\", allow_pickle=True)\n",
    "thetas, phis, epsilonbs, scales = data['thetas'], data['phis'], data['epsilonbs'], data['scales']"
   ]
  },
  {
   "cell_type": "code",
   "execution_count": 89,
   "metadata": {},
   "outputs": [
    {
     "data": {
      "image/png": "[encoded data removed]",
      "text/plain": [
       "<Figure size 432x288 with 1 Axes>"
      ]
     },
     "metadata": {
      "needs_background": "light"
     },
     "output_type": "display_data"
    }
   ],
   "source": [
    "# Plotting the solutions\n",
    "for i, theta in enumerate(thetas):\n",
    "    if scales[i] == 0:\n",
    "        plt.plot(theta.T[0], theta.T[1], color = 'red', label = str(scales[i]))\n",
    "    else:\n",
    "        plt.plot(theta.T[0], theta.T[1], color = 'black', label = str(scales[i]))\n",
    "plt.xlabel(\"r\")\n",
    "plt.ylabel('Theta')\n",
    "plt.xlim(left = 0, right = 20);\n",
    "\n",
    "# xvals = []\n",
    "# labelLines(plt.gca().get_lines(),  align=False);"
   ]
  },
  {
   "cell_type": "code",
   "execution_count": 90,
   "metadata": {},
   "outputs": [
    {
     "data": {
      "text/plain": [
       "Text(0, 0.5, 'epsilonb')"
      ]
     },
     "execution_count": 90,
     "metadata": {},
     "output_type": "execute_result"
    },
    {
     "data": {
      "image/png": "[encoded data removed]",
      "text/plain": [
       "<Figure size 432x288 with 1 Axes>"
      ]
     },
     "metadata": {
      "needs_background": "light"
     },
     "output_type": "display_data"
    }
   ],
   "source": [
    "plt.scatter(scales[:60],epsilonbs)\n",
    "plt.xlabel('Amplitude of perturbation')\n",
    "plt.ylabel('epsilonb')"
   ]
  },
  {
   "cell_type": "code",
   "execution_count": 91,
   "metadata": {},
   "outputs": [
    {
     "data": {
      "text/plain": [
       "Text(0, 0.5, 'Phi')"
      ]
     },
     "execution_count": 91,
     "metadata": {},
     "output_type": "execute_result"
    },
    {
     "data": {
      "image/png": "[encoded data removed]",
      "text/plain": [
       "<Figure size 432x288 with 1 Axes>"
      ]
     },
     "metadata": {
      "needs_background": "light"
     },
     "output_type": "display_data"
    }
   ],
   "source": [
    "# Plotting the potentials, emparams in the format [scale, center = 0, size = 1]\n",
    "for i, phi in enumerate(phis):\n",
    "    plt.plot(phi.T[0], phi.T[1] - epsilonbs[i], color = 'black', label = str(scales[i]))\n",
    "plt.xlabel(\"r\")\n",
    "plt.ylabel('Phi')\n",
    "\n",
    "# xvals = [1,1,1,1]\n",
    "# labelLines(plt.gca().get_lines(), xvals = xvals, align=False);"
   ]
  },
  {
   "cell_type": "code",
   "execution_count": null,
   "metadata": {},
   "outputs": [],
   "source": []
  }
 ],
 "metadata": {
  "interpreter": {
   "hash": "c2c1c2c5d31dd2871387777c80104f99faffe262fdebec3dae380fc7c671c441"
  },
  "kernelspec": {
   "display_name": "Python 3.9.7 64-bit (windows store)",
   "name": "python3"
  },
  "language_info": {
   "codemirror_mode": {
    "name": "ipython",
    "version": 3
   },
   "file_extension": ".py",
   "mimetype": "text/x-python",
   "name": "python",
   "nbconvert_exporter": "python",
   "pygments_lexer": "ipython3",
   "version": "3.9.7"
  },
  "orig_nbformat": 4
 },
 "nbformat": 4,
 "nbformat_minor": 2
}
