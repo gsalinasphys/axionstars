{
 "cells": [
  {
   "cell_type": "code",
   "execution_count": 19,
   "metadata": {},
   "outputs": [],
   "source": [
    "import time\n",
    "import matplotlib.pyplot as plt\n",
    "from higher_functions import *\n",
    "import multiprocess as mp"
   ]
  },
  {
   "cell_type": "code",
   "execution_count": 20,
   "metadata": {},
   "outputs": [],
   "source": [
    "nprocs = mp.cpu_count()\n",
    "pool = mp.Pool(processes=nprocs)\n",
    "\n",
    "def find_sol(nodes_target, rparams):\n",
    "    ri, rf, dr = rparams\n",
    "    steps = int((rf - ri)//dr)\n",
    "    \n",
    "    bpoint = 0\n",
    "    phi0 = np.random.uniform(-2,0)\n",
    "\n",
    "    nsteps = 5000\n",
    "    count, step_stdev, nneighboors = 0, 1, nprocs\n",
    "    for i in np.arange(nsteps):\n",
    "        # Give a random kick to phi0\n",
    "        phi0old = phi0\n",
    "        allphi0s = np.array([phi0]*nneighboors) + np.random.normal(0,step_stdev,nneighboors)\n",
    "\n",
    "        mcs = pool.starmap(mc_step, [(phi0here, bpoint, nodes_target, rparams) for phi0here in allphi0s])\n",
    "        bpoints = np.array([mc[1] for mc in mcs])\n",
    "        bpoint_max = np.amax(bpoints)\n",
    "        index_max = np.where(bpoints == bpoint_max)[0]\n",
    "\n",
    "        if bpoint_max > bpoint:  # If a larger 'bpoint' is found, keep\n",
    "            bpoint = bpoint_max\n",
    "            phi0 = allphi0s[index_max][0]\n",
    "        else:   # If not, back to old valur of phi0\n",
    "            count += 1\n",
    "        \n",
    "        # Variable 'count' avoids the code 'getting stuck' for large periods of time, makes step smaller when it happens\n",
    "        if count > 2:\n",
    "            count = 0\n",
    "            step_stdev = step_stdev/10\n",
    "\n",
    "        # If the solution does not break in the interval or step is too small, stop\n",
    "        if bpoint == steps - 1 or step_stdev < 1e-20:\n",
    "            return phi0, bpoint\n",
    "\n",
    "    return phi0, bpoint"
   ]
  },
  {
   "cell_type": "code",
   "execution_count": 21,
   "metadata": {},
   "outputs": [
    {
     "name": "stdout",
     "output_type": "stream",
     "text": [
      "Found solution for  1  nodes. It took  0.44  minutes.\n",
      "Found solution for  2  nodes. It took  0.55  minutes.\n",
      "Found solution for  3  nodes. It took  0.67  minutes.\n",
      "Found solution for  4  nodes. It took  0.79  minutes.\n",
      "Found solution for  5  nodes. It took  0.85  minutes.\n",
      "Found solution for  6  nodes. It took  1.08  minutes.\n",
      "Found solution for  7  nodes. It took  1.17  minutes.\n",
      "Found solution for  8  nodes. It took  0.78  minutes.\n"
     ]
    }
   ],
   "source": [
    "rparams = 0, 60, 0.01 # rparams in the format ri, rf, dr\n",
    "ri, rf, dr = rparams\n",
    "steps = int((rf - ri)//dr)\n",
    "rinterv = np.linspace(ri, rf, steps, endpoint=True)\n",
    "\n",
    "# Find solutions with number of nodes from nodes_min to nodes_max\n",
    "nodes_min, nodes_max = 1, 8\n",
    "nodes_lst = np.arange(nodes_min, nodes_max + 1)\n",
    "\n",
    "start_time = time.time()\n",
    "all_phi0s = []\n",
    "for node in nodes_lst:\n",
    "    thisphi0 = find_sol(node, rparams)[0]\n",
    "    all_phi0s.append(thisphi0)\n",
    "\n",
    "    print('Found solution for ', node, ' nodes. It took ', np.round((time.time() - start_time)/60, 2), ' minutes.')\n",
    "    start_time = time.time()\n",
    "\n",
    "\n",
    "# # Save phi0s for all the different number of nodes\n",
    "# a_file = open(\"output/allphis.txt\", \"w\")\n",
    "\n",
    "# np.savetxt(a_file, all_phi0s)\n",
    "\n",
    "# a_file.close()"
   ]
  },
  {
   "cell_type": "code",
   "execution_count": 22,
   "metadata": {},
   "outputs": [
    {
     "name": "stdout",
     "output_type": "stream",
     "text": [
      "The value of epsilonb is:  0.648267211173261\n",
      "The value of tilde phi0 is:  -0.8556236382949536\n"
     ]
    },
    {
     "data": {
      "image/png": "[encoded data removed]",
      "text/plain": [
       "<Figure size 432x288 with 1 Axes>"
      ]
     },
     "metadata": {
      "needs_background": "light"
     },
     "output_type": "display_data"
    }
   ],
   "source": [
    "# all_phi0s = np.loadtxt('output/allphis.txt')\n",
    "\n",
    "# Plotting solution with number of nodes equal to nodes_target\n",
    "nodes_target = 1\n",
    "phi0_plt = all_phi0s[nodes_target - 1]\n",
    "Xbc_plt = np.array([1, 0, phi0_plt, 0])\n",
    "Xs, bpoint, nodes = rk4(Xbc_plt, nodes_target)\n",
    "rinterv_cut, Xs = rinterv[:bpoint], Xs[:, :bpoint]\n",
    "\n",
    "epsilonb = find_epsilonb(rinterv_cut, Xs)[0]\n",
    "print('The value of epsilonb is: ', epsilonb)\n",
    "print('The value of tilde phi0 is: ', Xs[2].T[0])\n",
    "\n",
    "\n",
    "plt.plot(rinterv_cut, Xs[0].T, 'k-', label = \"theta\")\n",
    "plt.plot(rinterv_cut, Xs[2].T - epsilonb, 'k--', label = \"phi\")\n",
    "plt.xlabel(r\"$r$\")\n",
    "plt.xlim(left = 0, right = rinterv[bpoint])\n",
    "plt.legend();\n",
    "\n",
    "# name_file = 'plots/' + str(nodes_target) + 'nodes.pdf'\n",
    "# plt.savefig(name_file, dpi = 300, bbox_inches='tight')\n"
   ]
  },
  {
   "cell_type": "code",
   "execution_count": 110,
   "metadata": {},
   "outputs": [],
   "source": [
    "# Save all plots\n",
    "for i, phi0 in enumerate(all_phi0s):\n",
    "    nodes_here = i + 1\n",
    "    Xbc_plt = np.array([1, 0, phi0, 0])\n",
    "    Xs, bpoint, nodes = rk4(Xbc_plt, nodes_here)\n",
    "    rinterv_cut, Xs = rinterv[:bpoint], Xs[:, :bpoint]\n",
    "    epsilonb = find_epsilonb(rinterv_cut, Xs)[0]\n",
    "\n",
    "    plt.plot(rinterv_cut, Xs[0].T, 'k-', label = \"theta\")\n",
    "    plt.plot(rinterv_cut, Xs[2].T - epsilonb, 'k--', label = \"phi\")\n",
    "    plt.xlabel(r\"$r$\")\n",
    "    plt.xlim(left = 0, right = rinterv[bpoint])\n",
    "    textstr = 'n = ' + str(nodes_here)\n",
    "    plt.text(0.90, 0.925, textstr, fontsize=14, horizontalalignment='center', verticalalignment='center', transform=plt.gca().transAxes)\n",
    "\n",
    "    name_file = 'plots/' + str(nodes_here) + 'nodes.pdf'\n",
    "    plt.savefig(name_file, dpi = 300, bbox_inches='tight')\n",
    "    plt.close()"
   ]
  },
  {
   "cell_type": "code",
   "execution_count": null,
   "metadata": {},
   "outputs": [],
   "source": []
  }
 ],
 "metadata": {
  "interpreter": {
   "hash": "c2c1c2c5d31dd2871387777c80104f99faffe262fdebec3dae380fc7c671c441"
  },
  "kernelspec": {
   "display_name": "Python 3.9.7 64-bit (windows store)",
   "name": "python3"
  },
  "language_info": {
   "codemirror_mode": {
    "name": "ipython",
    "version": 3
   },
   "file_extension": ".py",
   "mimetype": "text/x-python",
   "name": "python",
   "nbconvert_exporter": "python",
   "pygments_lexer": "ipython3",
   "version": "3.9.8"
  },
  "orig_nbformat": 4
 },
 "nbformat": 4,
 "nbformat_minor": 2
}
