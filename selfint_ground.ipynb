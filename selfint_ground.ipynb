{
 "cells": [
  {
   "cell_type": "code",
   "execution_count": null,
   "metadata": {},
   "outputs": [],
   "source": [
    "# This code finds the ground state of a dilute axion star via a shooting method\n",
    "import numpy as np\n",
    "import matplotlib.pyplot as plt\n",
    "from matplotlib.pyplot import figure\n",
    "from scipy.optimize import curve_fit\n",
    "from scipy import interpolate"
   ]
  },
  {
   "cell_type": "code",
   "execution_count": null,
   "metadata": {},
   "outputs": [],
   "source": [
    "# Interval of solution and number of steps\n",
    "ri, rf, dr = 0, 20, 0.01 # Change dr to 0.001 for high resolution\n",
    "steps = int((rf - ri)//dr)\n",
    "rinterv = np.linspace(ri, rf, steps, endpoint=True)\n",
    "\n",
    "# Right-hand side of ODEs from Eq. (20) in my \"Notes on Axion Stars\", here X = [\\tilde{\\Psi}, \\chi, \\tilde{\\phi}, \\xi]\n",
    "def f(r, X):\n",
    "    f1 = X[1]\n",
    "    f2 = -2*X[1]/r + 2*X[2]*X[0]\n",
    "    f3 = X[3]\n",
    "    f4 = -2*X[3]/r + np.power(X[0],2)\n",
    "    return np.array([f1, f2, f3, f4])\n",
    "\n",
    "# Step of RK4\n",
    "def rk4step(r, X):\n",
    "    k1 = dr*f(r, X)\n",
    "    k2 = dr*f(r + dr/2, X + k1/2)\n",
    "    k3 = dr*f(r + dr/2, X + k2/2)\n",
    "    k4 = dr*f(r + dr, X + k3)\n",
    "    return X + (k1 + 2*k2 + 2*k3 + k4)/6\n",
    "\n",
    "# Full RK4\n",
    "def rk4(Xbc):\n",
    "    # Initialize the arrays\n",
    "    Xs = np.zeros((4, steps))\n",
    "\n",
    "    # Boundary conditions at r = ri\n",
    "    Xs[..., 0] = Xbc\n",
    "\n",
    "    # Perform RK4\n",
    "    bpoint = 0\n",
    "    for step in np.arange(1, steps):\n",
    "        rnow = rinterv[step]\n",
    "        Xs[..., step] = rk4step(rnow, Xs[..., step - 1])\n",
    "    \n",
    "        # The breakpoint 'bpoint' occurs when the solution stops converging to zero at r -> infty\n",
    "        if Xs[..., step][0] > Xs[..., step - 1][0] or Xs[..., step][0] < 0:\n",
    "            bpoint = step\n",
    "            return Xs, bpoint\n",
    "\n",
    "    return Xs, bpoint\n",
    "\n",
    "# Step of Monte Carlo for shooting method\n",
    "def mc_step(phi0, bpointold):\n",
    "    Xbc_step = np.array([1, 0, phi0, 0])\n",
    "    Xs_step, bpoint = rk4(Xbc_step)\n",
    "\n",
    "    # If the breakpoint happens for higher values of r, keep the new solution\n",
    "    if bpoint > bpointold:\n",
    "        return True, bpoint\n",
    "    elif bpoint <= bpointold:\n",
    "        return False, bpointold\n",
    "\n",
    "# Full Monte Carlo\n",
    "def find_sol():\n",
    "    bpoint = 0\n",
    "    phi0 = np.random.uniform(-1,0)\n",
    "\n",
    "    nsteps = 5000\n",
    "    count, step_stdev = 0, 1\n",
    "    for i in np.arange(nsteps):\n",
    "        # Give a random kick to phi0\n",
    "        phi0old = phi0\n",
    "        phi0 += np.random.normal(0,step_stdev)\n",
    "\n",
    "        mcs = mc_step(phi0, bpoint)\n",
    "        if mcs[0]:  # If a larger 'bpoint' is found, keep\n",
    "            bpoint = mcs[1]\n",
    "        else:   # If not, back to old valur of phi0\n",
    "            phi0 = phi0old\n",
    "            count += 1\n",
    "        \n",
    "        # Variable 'count' avoids the code 'getting stuck' for large periods of time, makes step smaller when it happens\n",
    "        if count > 100:\n",
    "            count = 0\n",
    "            step_stdev = step_stdev/10\n",
    "\n",
    "        # If the solution does not break in the interval or step is too small, stop\n",
    "        if bpoint == steps - 1 or step_stdev < 1e-20:\n",
    "            return phi0, bpoint\n",
    "\n",
    "    return phi0, bpoint\n",
    "\n",
    "# Asymptotic behavior of phi\n",
    "def fit_asymp(r, C, epsilonb):\n",
    "        return C/r + epsilonb\n",
    "\n",
    "def find_epsilonb(rinterv_loc, Xs):\n",
    "    # Find epsilonb from asymptotic behavior of phi\n",
    "    tail_ini = 100\n",
    "    r_asymp, phi_asymp = rinterv_loc[-tail_ini:-1], Xs[2].T[-tail_ini:-1]\n",
    "    popt, pcov = curve_fit(fit_asymp, r_asymp, phi_asymp)\n",
    "    # The error from the fit is epsilonb_stdev\n",
    "    epsilonb, epsilonb_stdev = popt[1], np.sqrt(np.diag(pcov))[1] \n",
    "    return epsilonb, epsilonb_stdev"
   ]
  },
  {
   "cell_type": "code",
   "execution_count": null,
   "metadata": {},
   "outputs": [
    {
     "name": "stdout",
     "output_type": "stream",
     "text": [
      "The value of epsilonb is: 0.6939841449451077\n",
      "The value of tilde phi0 is: -0.6494301842346241\n"
     ]
    },
    {
     "data": {
      "image/png": "[encoded data removed]",
      "text/plain": [
       "<Figure size 432x288 with 1 Axes>"
      ]
     },
     "metadata": {},
     "output_type": "display_data"
    }
   ],
   "source": [
    "# Plotting solution\n",
    "phi0_plt = find_sol()[0]\n",
    "Xbc_plt = np.array([1, 0, phi0_plt, 0])\n",
    "Xs, bpoint = rk4(Xbc_plt)\n",
    "rinterv_cut, Xs = rinterv[:bpoint], Xs[:, :bpoint]\n",
    "\n",
    "epsilonb = find_epsilonb(rinterv_cut, Xs)[0]\n",
    "print('The value of epsilonb is:', epsilonb)\n",
    "print('The value of tilde phi0 is:', Xs[2].T[0])\n",
    "\n",
    "plt.plot(rinterv_cut, Xs[0].T, 'k-', label = \"theta\")\n",
    "plt.plot(rinterv_cut, Xs[2].T - epsilonb, 'k--', label = \"phi\")\n",
    "plt.xlabel(\"r\")\n",
    "plt.legend();"
   ]
  },
  {
   "cell_type": "code",
   "execution_count": null,
   "metadata": {},
   "outputs": [],
   "source": [
    "# # Save a high resolution run\n",
    "# a_file = open(\"output/hr_ground.txt\", \"w\")\n",
    "# for row in Xs:\n",
    "#     np.savetxt(a_file, row)\n",
    "\n",
    "# a_file.close()\n",
    "\n",
    "# Plot the high resolution run\n",
    "Xs_readflat = np.loadtxt(\"output/hr_ground.txt\")\n",
    "rinterv_read = np.linspace(ri, rf, int(len(Xs_readflat)/4), endpoint=True)\n",
    "Xs_read = Xs_readflat.reshape(4, int(len(Xs_readflat)/4))\n",
    "\n",
    "epsilonb_read, epsilonb_read_stdev = find_epsilonb(rinterv_read, Xs_read)\n",
    "print('epsilonb (high res): ', epsilonb_read)\n",
    "print('tilde phi0 (high res):', Xs_read[2].T[0])\n",
    "\n",
    "plt.plot(rinterv_read, Xs_read[0].T, 'k-', label = \"$\\~\\Psi_g(r)$\")\n",
    "plt.plot(rinterv_read, Xs_read[2].T - epsilonb_read, 'k--', label = \"$\\phi(r)$\")\n",
    "plt.xlabel(r'$r$')\n",
    "plt.xlim(left = 0, right = 20)\n",
    "plt.legend()\n",
    "\n",
    "plt.savefig('plots/ground.pdf', dpi = 300, bbox_inches='tight')"
   ]
  },
  {
   "cell_type": "code",
   "execution_count": null,
   "metadata": {},
   "outputs": [
    {
     "name": "stdout",
     "output_type": "stream",
     "text": [
      "epsilonb: 0.6939834816814414 \t epsilonb (high res): 0.6923954131464704 \t percent error: 0.2293586157300443 %\n",
      "tilde phi0: -0.6494301842346227 \t tilde phi0 (high res): -0.6495239603979371 \t percent error: 0.014437675749013869 %\n"
     ]
    },
    {
     "data": {
      "image/png": "[encoded data removed]",
      "text/plain": [
       "<Figure size 1152x432 with 2 Axes>"
      ]
     },
     "metadata": {},
     "output_type": "display_data"
    }
   ],
   "source": [
    "# Comparison with high resolution run\n",
    "print('epsilonb:', epsilonb, '\\t epsilonb (high res):', epsilonb_read, '\\t percent error:', np.abs((epsilonb - epsilonb_read)/epsilonb_read)*100, '%')\n",
    "print('tilde phi0:', Xs[2].T[0], '\\t tilde phi0 (high res):', Xs_read[2].T[0],'\\t percent error:', np.abs((Xs[2].T[0] - Xs_read[2].T[0])/Xs_read[2].T[0])*100, '%')\n",
    "\n",
    "figure(figsize=(16, 6))\n",
    "\n",
    "plt.subplot(1, 2, 1)\n",
    "plt.plot(rinterv_read, Xs_read[0].T, label = \"theta (high res)\")\n",
    "plt.plot(rinterv[:bpoint], Xs[0].T[:bpoint], label = \"theta\")\n",
    "plt.xlabel(r'$r$')\n",
    "plt.legend();\n",
    "\n",
    "plt.subplot(1, 2, 2)\n",
    "Xs_interp = interpolate.interp1d(rinterv[:bpoint], Xs[0].T[:bpoint], kind = 'cubic')\n",
    "Xs_read_interp = interpolate.interp1d(rinterv_read, Xs_read[0].T, kind = 'cubic')\n",
    "Xs_diff = 100*(Xs_interp(rinterv[:bpoint]) - Xs_read_interp(rinterv[:bpoint]))/Xs_read_interp(rinterv[:bpoint])\n",
    "plt.plot(rinterv[:bpoint], Xs_diff)\n",
    "plt.ylim(top = 5, bottom = -5)\n",
    "plt.xlabel(r'$r$')\n",
    "plt.ylabel('Percent difference (%)');"
   ]
  },
  {
   "cell_type": "code",
   "execution_count": null,
   "metadata": {},
   "outputs": [
    {
     "name": "stdout",
     "output_type": "stream",
     "text": [
      "Total number of particles (divided by 4*pi):  2.0736382058420113\n",
      "Radius R99:  4.835120777788915\n"
     ]
    }
   ],
   "source": [
    "# Find the total number of particles in the ground state\n",
    "Npart = np.trapz(np.power(Xs_read[0].T,2)*np.power(rinterv_read, 2), rinterv_read)\n",
    "print('Total number of particles (divided by 4*pi): ', Npart)\n",
    "\n",
    "# Find the radius R99\n",
    "for i in np.arange(len(rinterv_read)):\n",
    "    npart = np.trapz(np.power(Xs_read[0].T,2)[:i]*np.power(rinterv_read[:i], 2), rinterv_read[:i])\n",
    "    if npart > 0.99*Npart:\n",
    "        r99i = i\n",
    "        break\n",
    "\n",
    "print('Radius R99: ', rinterv_read[r99i])"
   ]
  },
  {
   "cell_type": "code",
   "execution_count": null,
   "metadata": {},
   "outputs": [],
   "source": []
  }
 ],
 "metadata": {
  "language_info": {
   "name": "python"
  },
  "orig_nbformat": 4
 },
 "nbformat": 4,
 "nbformat_minor": 2
}
